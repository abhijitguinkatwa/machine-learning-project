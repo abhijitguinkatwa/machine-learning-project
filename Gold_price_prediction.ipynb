{
  "nbformat": 4,
  "nbformat_minor": 0,
  "metadata": {
    "colab": {
      "name": "Gold price prediction.ipynb",
      "provenance": [],
      "authorship_tag": "ABX9TyODVDHGk0VZOAcc1EClRGf4",
      "include_colab_link": true
    },
    "kernelspec": {
      "name": "python3",
      "display_name": "Python 3"
    },
    "language_info": {
      "name": "python"
    }
  },
  "cells": [
    {
      "cell_type": "markdown",
      "metadata": {
        "id": "view-in-github",
        "colab_type": "text"
      },
      "source": [
        "<a href=\"https://colab.research.google.com/github/abhijitguinkatwa/machine-learning-project/blob/main/Gold_price_prediction.ipynb\" target=\"_parent\"><img src=\"https://colab.research.google.com/assets/colab-badge.svg\" alt=\"Open In Colab\"/></a>"
      ]
    },
    {
      "cell_type": "code",
      "execution_count": 1,
      "metadata": {
        "id": "Qexqub08rUhp"
      },
      "outputs": [],
      "source": [
        "import numpy as np\n",
        "import pandas as pd\n",
        "import matplotlib.pyplot as plt\n",
        "import seaborn as sns\n",
        "from sklearn.model_selection import train_test_split\n",
        "from sklearn.ensemble import RandomForestRegressor\n",
        "from sklearn import metrics"
      ]
    },
    {
      "cell_type": "code",
      "source": [
        "# loading the csv data to a Pandas DataFrame\n",
        "gold_data = pd.read_csv('/content/gld_price_data.csv')"
      ],
      "metadata": {
        "id": "Fn_UdZU8ryop"
      },
      "execution_count": 2,
      "outputs": []
    },
    {
      "cell_type": "code",
      "source": [
        "gold_data.head(3)"
      ],
      "metadata": {
        "colab": {
          "base_uri": "https://localhost:8080/",
          "height": 143
        },
        "id": "x_pHuK6gr3zx",
        "outputId": "58ffbb76-b69e-4b96-bd46-18bf6e69697a"
      },
      "execution_count": 3,
      "outputs": [
        {
          "output_type": "execute_result",
          "data": {
            "text/html": [
              "\n",
              "  <div id=\"df-30f3a1f4-5af0-437e-ac99-834717db10ae\">\n",
              "    <div class=\"colab-df-container\">\n",
              "      <div>\n",
              "<style scoped>\n",
              "    .dataframe tbody tr th:only-of-type {\n",
              "        vertical-align: middle;\n",
              "    }\n",
              "\n",
              "    .dataframe tbody tr th {\n",
              "        vertical-align: top;\n",
              "    }\n",
              "\n",
              "    .dataframe thead th {\n",
              "        text-align: right;\n",
              "    }\n",
              "</style>\n",
              "<table border=\"1\" class=\"dataframe\">\n",
              "  <thead>\n",
              "    <tr style=\"text-align: right;\">\n",
              "      <th></th>\n",
              "      <th>Date</th>\n",
              "      <th>SPX</th>\n",
              "      <th>GLD</th>\n",
              "      <th>USO</th>\n",
              "      <th>SLV</th>\n",
              "      <th>EUR/USD</th>\n",
              "    </tr>\n",
              "  </thead>\n",
              "  <tbody>\n",
              "    <tr>\n",
              "      <th>0</th>\n",
              "      <td>1/2/2008</td>\n",
              "      <td>1447.160034</td>\n",
              "      <td>84.860001</td>\n",
              "      <td>78.470001</td>\n",
              "      <td>15.180</td>\n",
              "      <td>1.471692</td>\n",
              "    </tr>\n",
              "    <tr>\n",
              "      <th>1</th>\n",
              "      <td>1/3/2008</td>\n",
              "      <td>1447.160034</td>\n",
              "      <td>85.570000</td>\n",
              "      <td>78.370003</td>\n",
              "      <td>15.285</td>\n",
              "      <td>1.474491</td>\n",
              "    </tr>\n",
              "    <tr>\n",
              "      <th>2</th>\n",
              "      <td>1/4/2008</td>\n",
              "      <td>1411.630005</td>\n",
              "      <td>85.129997</td>\n",
              "      <td>77.309998</td>\n",
              "      <td>15.167</td>\n",
              "      <td>1.475492</td>\n",
              "    </tr>\n",
              "  </tbody>\n",
              "</table>\n",
              "</div>\n",
              "      <button class=\"colab-df-convert\" onclick=\"convertToInteractive('df-30f3a1f4-5af0-437e-ac99-834717db10ae')\"\n",
              "              title=\"Convert this dataframe to an interactive table.\"\n",
              "              style=\"display:none;\">\n",
              "        \n",
              "  <svg xmlns=\"http://www.w3.org/2000/svg\" height=\"24px\"viewBox=\"0 0 24 24\"\n",
              "       width=\"24px\">\n",
              "    <path d=\"M0 0h24v24H0V0z\" fill=\"none\"/>\n",
              "    <path d=\"M18.56 5.44l.94 2.06.94-2.06 2.06-.94-2.06-.94-.94-2.06-.94 2.06-2.06.94zm-11 1L8.5 8.5l.94-2.06 2.06-.94-2.06-.94L8.5 2.5l-.94 2.06-2.06.94zm10 10l.94 2.06.94-2.06 2.06-.94-2.06-.94-.94-2.06-.94 2.06-2.06.94z\"/><path d=\"M17.41 7.96l-1.37-1.37c-.4-.4-.92-.59-1.43-.59-.52 0-1.04.2-1.43.59L10.3 9.45l-7.72 7.72c-.78.78-.78 2.05 0 2.83L4 21.41c.39.39.9.59 1.41.59.51 0 1.02-.2 1.41-.59l7.78-7.78 2.81-2.81c.8-.78.8-2.07 0-2.86zM5.41 20L4 18.59l7.72-7.72 1.47 1.35L5.41 20z\"/>\n",
              "  </svg>\n",
              "      </button>\n",
              "      \n",
              "  <style>\n",
              "    .colab-df-container {\n",
              "      display:flex;\n",
              "      flex-wrap:wrap;\n",
              "      gap: 12px;\n",
              "    }\n",
              "\n",
              "    .colab-df-convert {\n",
              "      background-color: #E8F0FE;\n",
              "      border: none;\n",
              "      border-radius: 50%;\n",
              "      cursor: pointer;\n",
              "      display: none;\n",
              "      fill: #1967D2;\n",
              "      height: 32px;\n",
              "      padding: 0 0 0 0;\n",
              "      width: 32px;\n",
              "    }\n",
              "\n",
              "    .colab-df-convert:hover {\n",
              "      background-color: #E2EBFA;\n",
              "      box-shadow: 0px 1px 2px rgba(60, 64, 67, 0.3), 0px 1px 3px 1px rgba(60, 64, 67, 0.15);\n",
              "      fill: #174EA6;\n",
              "    }\n",
              "\n",
              "    [theme=dark] .colab-df-convert {\n",
              "      background-color: #3B4455;\n",
              "      fill: #D2E3FC;\n",
              "    }\n",
              "\n",
              "    [theme=dark] .colab-df-convert:hover {\n",
              "      background-color: #434B5C;\n",
              "      box-shadow: 0px 1px 3px 1px rgba(0, 0, 0, 0.15);\n",
              "      filter: drop-shadow(0px 1px 2px rgba(0, 0, 0, 0.3));\n",
              "      fill: #FFFFFF;\n",
              "    }\n",
              "  </style>\n",
              "\n",
              "      <script>\n",
              "        const buttonEl =\n",
              "          document.querySelector('#df-30f3a1f4-5af0-437e-ac99-834717db10ae button.colab-df-convert');\n",
              "        buttonEl.style.display =\n",
              "          google.colab.kernel.accessAllowed ? 'block' : 'none';\n",
              "\n",
              "        async function convertToInteractive(key) {\n",
              "          const element = document.querySelector('#df-30f3a1f4-5af0-437e-ac99-834717db10ae');\n",
              "          const dataTable =\n",
              "            await google.colab.kernel.invokeFunction('convertToInteractive',\n",
              "                                                     [key], {});\n",
              "          if (!dataTable) return;\n",
              "\n",
              "          const docLinkHtml = 'Like what you see? Visit the ' +\n",
              "            '<a target=\"_blank\" href=https://colab.research.google.com/notebooks/data_table.ipynb>data table notebook</a>'\n",
              "            + ' to learn more about interactive tables.';\n",
              "          element.innerHTML = '';\n",
              "          dataTable['output_type'] = 'display_data';\n",
              "          await google.colab.output.renderOutput(dataTable, element);\n",
              "          const docLink = document.createElement('div');\n",
              "          docLink.innerHTML = docLinkHtml;\n",
              "          element.appendChild(docLink);\n",
              "        }\n",
              "      </script>\n",
              "    </div>\n",
              "  </div>\n",
              "  "
            ],
            "text/plain": [
              "       Date          SPX        GLD        USO     SLV   EUR/USD\n",
              "0  1/2/2008  1447.160034  84.860001  78.470001  15.180  1.471692\n",
              "1  1/3/2008  1447.160034  85.570000  78.370003  15.285  1.474491\n",
              "2  1/4/2008  1411.630005  85.129997  77.309998  15.167  1.475492"
            ]
          },
          "metadata": {},
          "execution_count": 3
        }
      ]
    },
    {
      "cell_type": "code",
      "source": [
        "# checking the number of missing values\n",
        "gold_data.isnull().sum()"
      ],
      "metadata": {
        "colab": {
          "base_uri": "https://localhost:8080/"
        },
        "id": "jl4mNe-dr9zC",
        "outputId": "adaf576f-84c1-4e35-fcbe-936d2d9971f8"
      },
      "execution_count": 4,
      "outputs": [
        {
          "output_type": "execute_result",
          "data": {
            "text/plain": [
              "Date       0\n",
              "SPX        0\n",
              "GLD        0\n",
              "USO        0\n",
              "SLV        0\n",
              "EUR/USD    0\n",
              "dtype: int64"
            ]
          },
          "metadata": {},
          "execution_count": 4
        }
      ]
    },
    {
      "cell_type": "code",
      "source": [
        "correlation = gold_data.corr()"
      ],
      "metadata": {
        "id": "9AZUQZTZsFKT"
      },
      "execution_count": 5,
      "outputs": []
    },
    {
      "cell_type": "code",
      "source": [
        ""
      ],
      "metadata": {
        "id": "_cjb2z2DsJ2a"
      },
      "execution_count": null,
      "outputs": []
    },
    {
      "cell_type": "code",
      "metadata": {
        "colab": {
          "base_uri": "https://localhost:8080/",
          "height": 487
        },
        "id": "oOqb9j0Ad-Zx",
        "outputId": "b249642f-7807-407f-c588-d5e46fb73e4a"
      },
      "source": [
        "# constructing a heatmap to understand the correlatiom\n",
        "plt.figure(figsize = (8,8))\n",
        "sns.heatmap(correlation, cbar=True, square=True, fmt='.1f',annot=True, annot_kws={'size':8}, cmap='Blues')"
      ],
      "execution_count": 6,
      "outputs": [
        {
          "output_type": "execute_result",
          "data": {
            "text/plain": [
              "<matplotlib.axes._subplots.AxesSubplot at 0x7f88cea49510>"
            ]
          },
          "metadata": {},
          "execution_count": 6
        },
        {
          "output_type": "display_data",
          "data": {
            "image/png": "[encoded data removed]",
            "text/plain": [
              "<Figure size 576x576 with 2 Axes>"
            ]
          },
          "metadata": {
            "needs_background": "light"
          }
        }
      ]
    },
    {
      "cell_type": "code",
      "source": [
        "# correlation values of GLD\n",
        "print(correlation['GLD'])"
      ],
      "metadata": {
        "colab": {
          "base_uri": "https://localhost:8080/"
        },
        "id": "fjLe7TkLsVy5",
        "outputId": "146c1d43-7c15-4bde-f127-25fd7b405b46"
      },
      "execution_count": 7,
      "outputs": [
        {
          "output_type": "stream",
          "name": "stdout",
          "text": [
            "SPX        0.049345\n",
            "GLD        1.000000\n",
            "USO       -0.186360\n",
            "SLV        0.866632\n",
            "EUR/USD   -0.024375\n",
            "Name: GLD, dtype: float64\n"
          ]
        }
      ]
    },
    {
      "cell_type": "code",
      "source": [
        "# checking the distribution of the GLD Price\n",
        "sns.distplot(gold_data['GLD'],color='green')"
      ],
      "metadata": {
        "colab": {
          "base_uri": "https://localhost:8080/",
          "height": 355
        },
        "id": "kKSyL5Zjsa96",
        "outputId": "9ceb6534-123f-4c30-dcb3-f32aff05b2d0"
      },
      "execution_count": 8,
      "outputs": [
        {
          "output_type": "stream",
          "name": "stderr",
          "text": [
            "/usr/local/lib/python3.7/dist-packages/seaborn/distributions.py:2619: FutureWarning: `distplot` is a deprecated function and will be removed in a future version. Please adapt your code to use either `displot` (a figure-level function with similar flexibility) or `histplot` (an axes-level function for histograms).\n",
            "  warnings.warn(msg, FutureWarning)\n"
          ]
        },
        {
          "output_type": "execute_result",
          "data": {
            "text/plain": [
              "<matplotlib.axes._subplots.AxesSubplot at 0x7f889b43ce90>"
            ]
          },
          "metadata": {},
          "execution_count": 8
        },
        {
          "output_type": "display_data",
          "data": {
            "image/png": "[encoded data removed]",
            "text/plain": [
              "<Figure size 432x288 with 1 Axes>"
            ]
          },
          "metadata": {
            "needs_background": "light"
          }
        }
      ]
    },
    {
      "cell_type": "code",
      "source": [
        "X = gold_data.drop(['Date','GLD'],axis=1)\n",
        "Y = gold_data['GLD']"
      ],
      "metadata": {
        "id": "uo3R5tfSskpc"
      },
      "execution_count": 9,
      "outputs": []
    },
    {
      "cell_type": "code",
      "metadata": {
        "id": "KkrUByFugBUn"
      },
      "source": [
        "X_train, X_test, Y_train, Y_test = train_test_split(X, Y, test_size = 0.2, random_state=2)"
      ],
      "execution_count": 10,
      "outputs": []
    },
    {
      "cell_type": "code",
      "source": [
        "#Model Training: Random Forest Regressor\n",
        "\n",
        "regressor = RandomForestRegressor(n_estimators=100)\n",
        "\n",
        "# training the model\n",
        "regressor.fit(X_train,Y_train)"
      ],
      "metadata": {
        "colab": {
          "base_uri": "https://localhost:8080/"
        },
        "id": "Jsq0K4MKswYR",
        "outputId": "e18dc41d-7a62-4d9f-b353-3a29e886fed6"
      },
      "execution_count": 11,
      "outputs": [
        {
          "output_type": "execute_result",
          "data": {
            "text/plain": [
              "RandomForestRegressor()"
            ]
          },
          "metadata": {},
          "execution_count": 11
        }
      ]
    },
    {
      "cell_type": "markdown",
      "source": [
        "Model Evaluation"
      ],
      "metadata": {
        "id": "2OHTowqftJ8m"
      }
    },
    {
      "cell_type": "code",
      "source": [
        "# prediction on Test Data\n",
        "test_data_prediction = regressor.predict(X_test)\n",
        "\n",
        "print(test_data_prediction)\n",
        "\n",
        "# R squared error\n",
        "error_score = metrics.r2_score(Y_test, test_data_prediction)\n",
        "print(\"R squared error : \", error_score)"
      ],
      "metadata": {
        "colab": {
          "base_uri": "https://localhost:8080/"
        },
        "id": "PQ7okf5rtLbx",
        "outputId": "9f13c713-bcfa-4ecd-ed8b-f4d196c67280"
      },
      "execution_count": 12,
      "outputs": [
        {
          "output_type": "stream",
          "name": "stdout",
          "text": [
            "[168.12409901  81.93859988 115.96730042 127.70890036 120.66530138\n",
            " 154.79239774 150.33339885 126.09930053 117.5711987  126.02300055\n",
            " 116.64760123 171.2924008  141.84879902 167.81779844 115.3573999\n",
            " 117.69440054 139.537903   169.99030066 158.58940286 159.67209967\n",
            " 155.06080012 125.03300002 176.02230004 157.76270298 125.13970062\n",
            "  93.76699967  77.82870003 120.4774     119.12269967 167.45729921\n",
            "  88.23060045 125.00499971  91.07270091 117.71980014 121.12369903\n",
            " 136.51520131 115.54960158 114.99710095 147.56209979 107.01840097\n",
            " 104.28460223  87.22279781 126.53300041 118.01999985 152.99459903\n",
            " 119.69020003 108.42980046 107.99219808  93.07850047 126.98769813\n",
            "  74.78970038 113.66189921 121.35070035 111.32309906 118.95759889\n",
            " 121.34849937 158.69869991 168.3955011  146.8212967   85.8074988\n",
            "  94.48520003  86.73969906  90.44199996 118.9330008  126.40080052\n",
            " 127.73010053 169.51599958 122.15639931 117.55769893  98.68400025\n",
            " 167.84970084 143.08699838 131.85340328 121.11230219 120.7732996\n",
            " 119.83610046 114.55970148 118.24900075 107.16060104 127.89050094\n",
            " 113.9893998  107.38490014 116.80670039 119.6896989   88.81690078\n",
            "  88.31039906 146.63760265 127.26400036 113.07410032 110.12839848\n",
            " 108.20819903  77.54099919 169.32270199 113.95959902 121.50259943\n",
            " 128.01890179 155.11149856  91.67919901 135.09910122 159.2182041\n",
            " 125.06220073 125.25550074 130.73820224 114.86560093 119.86220034\n",
            "  92.18679992 110.25009901 167.71049908 156.93469816 114.01689937\n",
            " 106.60780135  79.39909982 113.37820034 125.82040121 107.53549914\n",
            " 119.14560061 155.75200384 159.47229879 120.31289988 134.12710244\n",
            " 101.47689988 117.51909785 119.30260018 113.04770066 102.72789898\n",
            " 160.28399843  99.12800029 148.56439912 125.68550132 170.00259963\n",
            " 126.10529845 127.36599719 127.40060176 113.66289937 113.05020083\n",
            " 123.45319899 102.07889886  89.34539972 124.65759937 102.12689921\n",
            " 107.10999944 113.93190052 117.2916003   99.4164996  121.61920058\n",
            " 163.42719885  87.36559914 106.74700013 117.15350067 127.72100139\n",
            " 124.08530042  80.72359898 120.17810044 158.17559845  88.04889963\n",
            " 110.24719957 118.95089921 171.69479853 102.92799889 105.30480099\n",
            " 122.79190031 158.22899825  87.29729829  93.24330027 112.84870042\n",
            " 176.64530018 114.54840006 119.34600003  94.68340122 125.42760016\n",
            " 166.49610147 114.84510064 116.61620138  88.3929991  149.20680099\n",
            " 120.46839939  89.39409967 111.91410017 117.51450023 118.69630124\n",
            "  88.24839901  94.18810042 117.33109995 118.67800203 120.45390056\n",
            " 126.78829812 121.74739981 150.84700043 165.01730044 118.62209967\n",
            " 120.11910144 151.30970031 118.40599924 172.28119896 105.83389925\n",
            " 104.95490103 149.940401   113.65160044 124.65590125 147.29910054\n",
            " 119.67210124 115.58030085 112.20650019 113.41330202 141.04190132\n",
            " 117.98649758 103.0358006  115.82430107 103.69450186  98.89740044\n",
            " 117.25030059  90.58490037  91.51340101 153.5490987  102.68629964\n",
            " 154.0956008  114.4083015  138.57490127  90.04359857 115.51559911\n",
            " 114.84409982 122.95170044 121.65220026 165.43190197  92.9322994\n",
            " 135.32250158 121.29029979 120.8948011  104.65070048 142.21180271\n",
            " 121.7728991  116.6507006  113.21700103 127.13459757 122.93979938\n",
            " 125.73519973 121.22770033  86.86689865 132.08150147 144.56670224\n",
            "  92.74309949 158.96569907 159.48320286 126.28619879 165.14929993\n",
            " 108.85459958 109.19910054 103.6345983   94.3645009  128.18180341\n",
            " 107.31770061 161.24199942 121.69080055 131.72020046 130.88920199\n",
            " 160.10579923  90.03979878 175.8524024  127.11930042 126.93399838\n",
            "  86.41839971 124.67989982 150.41829734  89.62560005 106.96500003\n",
            " 108.96059997  84.14709899 135.8672001  155.22360241 138.1108028\n",
            "  74.10360038 151.6629009  126.03230017 126.70730018 127.47679909\n",
            " 108.82929945 156.2936991  114.61780078 117.09230107 125.02569961\n",
            " 154.03790183 121.40270003 156.37569874  93.06210102 125.53780141\n",
            " 125.62890024  87.88580065  92.04269941 126.15649921 128.03640272\n",
            " 113.28510064 117.75749746 121.03750022 127.13089804 119.40580136\n",
            " 136.52960132  93.95619936 119.72580027 113.234901    94.21199945\n",
            " 108.92179935  87.52709949 108.87699947  89.61519984  92.37140007\n",
            " 131.88690325 162.23770026  89.16930054 119.57790081 133.13790179\n",
            " 124.01270002 128.20500219 101.93719848  88.84389918 131.48960018\n",
            " 119.68770026 108.51070018 168.23770083 115.29720044  86.63929882\n",
            " 118.77930034  90.88009969 161.50039984 116.38120032 121.62739998\n",
            " 160.39449826 120.10229912 112.84089931 108.45959868 126.72019994\n",
            "  75.90170038 102.96489971 127.74320272 121.76379942  92.64769969\n",
            " 131.87450101 118.13740119 116.09999957 154.74390303 159.19380111\n",
            " 110.02099988 154.02909765 119.1447006  160.55140135 118.28920028\n",
            " 157.11959971 115.12959904 116.6840003  148.92899932 114.87570052\n",
            " 125.75209881 166.14529848 117.80099995 125.01579951 153.43500356\n",
            " 153.48710278 131.9380003  114.65680004 121.15830205 124.91540053\n",
            "  89.87460026 123.47529984 154.87000181 111.74760031 106.79690013\n",
            " 161.70660145 118.40599951 165.76880061 134.02440115 115.19559984\n",
            " 152.98519896 168.66959991 115.40100058 113.91590112 158.01269828\n",
            "  85.18909911 127.12760062 128.02100061 128.98379964 124.52580042\n",
            " 123.76800088  90.46900047 153.02280064  97.10869982 136.99879962\n",
            "  88.97909888 107.11400017 115.10080054 112.792201   124.10359916\n",
            "  91.45179887 125.4356011  162.2797984  119.78539865 165.20700113\n",
            " 126.89709786 112.42290022 127.44489968  94.88079946  91.16919967\n",
            " 103.27619893 120.78050005  83.25189955 126.44499988 159.66440468\n",
            " 117.26930096 118.09939983 119.67929969 122.89619952 120.04080146\n",
            " 121.39630003 118.26570052 107.12760006 148.06599969 126.45069855\n",
            " 115.75280066  73.57279991 127.82160083 153.36610037 121.97720014\n",
            " 125.61620059  88.93379998 103.09129846 124.73820048 120.29940027\n",
            "  73.33390079 152.08199982 121.14870047 104.76659985  86.63549767\n",
            " 114.916699   172.22079817 119.73000019 159.97389823 113.19029975\n",
            " 121.44800041 118.52860074  95.9752998  118.93709988 125.8557003\n",
            " 118.51689943  95.42520051 153.6933016  122.17010037 147.36009991\n",
            " 159.85180208 113.72370017 122.54259952 150.59289798 127.0409003\n",
            " 165.61850072 134.57800031 120.22310048 166.970799   108.43419908\n",
            " 121.7018987  138.15270097 107.07039873]\n",
            "R squared error :  0.9893756407724569\n"
          ]
        }
      ]
    },
    {
      "cell_type": "code",
      "source": [
        "#Compare the Actual Values and Predicted Values in a Plot\n",
        "\n",
        "Y_test = list(Y_test)\n",
        "\n",
        "plt.plot(Y_test, color='blue', label = 'Actual Value')\n",
        "plt.plot(test_data_prediction, color='green', label='Predicted Value')\n",
        "plt.title('Actual Price vs Predicted Price')\n",
        "plt.xlabel('Number of values')\n",
        "plt.ylabel('GLD Price')\n",
        "plt.legend()\n",
        "plt.show()"
      ],
      "metadata": {
        "colab": {
          "base_uri": "https://localhost:8080/",
          "height": 295
        },
        "id": "Ut_UBcCwtdos",
        "outputId": "c9635ffd-c749-4b25-bcd1-7c3a62b6582f"
      },
      "execution_count": 13,
      "outputs": [
        {
          "output_type": "display_data",
          "data": {
            "image/png": "[encoded data removed]",
            "text/plain": [
              "<Figure size 432x288 with 1 Axes>"
            ]
          },
          "metadata": {
            "needs_background": "light"
          }
        }
      ]
    }
  ]
}