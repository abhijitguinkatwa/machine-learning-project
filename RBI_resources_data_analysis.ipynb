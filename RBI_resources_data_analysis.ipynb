{
  "nbformat": 4,
  "nbformat_minor": 0,
  "metadata": {
    "colab": {
      "name": "RBI resources data analysis.ipynb",
      "provenance": [],
      "authorship_tag": "ABX9TyNoat6sV9AleGELL+2Wk/C+",
      "include_colab_link": true
    },
    "kernelspec": {
      "name": "python3",
      "display_name": "Python 3"
    },
    "language_info": {
      "name": "python"
    },
    "widgets": {
      "application/vnd.jupyter.widget-state+json": {
        "4bfb894615f14ed6970ba0999b9eb6de": {
          "model_module": "@jupyter-widgets/controls",
          "model_name": "HBoxModel",
          "model_module_version": "1.5.0",
          "state": {
            "_dom_classes": [],
            "_model_module": "@jupyter-widgets/controls",
            "_model_module_version": "1.5.0",
            "_model_name": "HBoxModel",
            "_view_count": null,
            "_view_module": "@jupyter-widgets/controls",
            "_view_module_version": "1.5.0",
            "_view_name": "HBoxView",
            "box_style": "",
            "children": [
              "IPY_MODEL_e7292fbdea6e4d0f91186884f03ad6e8",
              "IPY_MODEL_e4b7cb21143b4c93baeebd4c0cd1f0d1",
              "IPY_MODEL_249bd72f88f94fb1b07983b7d8f7178b"
            ],
            "layout": "IPY_MODEL_baaf772c8a484b56998818afda94f5bf"
          }
        },
        "e7292fbdea6e4d0f91186884f03ad6e8": {
          "model_module": "@jupyter-widgets/controls",
          "model_name": "HTMLModel",
          "model_module_version": "1.5.0",
          "state": {
            "_dom_classes": [],
            "_model_module": "@jupyter-widgets/controls",
            "_model_module_version": "1.5.0",
            "_model_name": "HTMLModel",
            "_view_count": null,
            "_view_module": "@jupyter-widgets/controls",
            "_view_module_version": "1.5.0",
            "_view_name": "HTMLView",
            "description": "",
            "description_tooltip": null,
            "layout": "IPY_MODEL_f486bcd5825f4cf5b88f88c66b9d6f56",
            "placeholder": "​",
            "style": "IPY_MODEL_ec24fe5de12e467b8cb7e210892c7927",
            "value": "Optimization Progress: 100%"
          }
        },
        "e4b7cb21143b4c93baeebd4c0cd1f0d1": {
          "model_module": "@jupyter-widgets/controls",
          "model_name": "FloatProgressModel",
          "model_module_version": "1.5.0",
          "state": {
            "_dom_classes": [],
            "_model_module": "@jupyter-widgets/controls",
            "_model_module_version": "1.5.0",
            "_model_name": "FloatProgressModel",
            "_view_count": null,
            "_view_module": "@jupyter-widgets/controls",
            "_view_module_version": "1.5.0",
            "_view_name": "ProgressView",
            "bar_style": "",
            "description": "",
            "description_tooltip": null,
            "layout": "IPY_MODEL_490e52c0d6954ec68a57196fb418ffe3",
            "max": 300,
            "min": 0,
            "orientation": "horizontal",
            "style": "IPY_MODEL_9f825fae4c1c424f87b4e6a81f677a08",
            "value": 300
          }
        },
        "249bd72f88f94fb1b07983b7d8f7178b": {
          "model_module": "@jupyter-widgets/controls",
          "model_name": "HTMLModel",
          "model_module_version": "1.5.0",
          "state": {
            "_dom_classes": [],
            "_model_module": "@jupyter-widgets/controls",
            "_model_module_version": "1.5.0",
            "_model_name": "HTMLModel",
            "_view_count": null,
            "_view_module": "@jupyter-widgets/controls",
            "_view_module_version": "1.5.0",
            "_view_name": "HTMLView",
            "description": "",
            "description_tooltip": null,
            "layout": "IPY_MODEL_057ba0d362af444abc19ae52645849f4",
            "placeholder": "​",
            "style": "IPY_MODEL_b309857bbcfb4b8aabd5822103918d8d",
            "value": " 300/300 [03:56&lt;00:00,  1.07s/pipeline]"
          }
        },
        "baaf772c8a484b56998818afda94f5bf": {
          "model_module": "@jupyter-widgets/base",
          "model_name": "LayoutModel",
          "model_module_version": "1.2.0",
          "state": {
            "_model_module": "@jupyter-widgets/base",
            "_model_module_version": "1.2.0",
            "_model_name": "LayoutModel",
            "_view_count": null,
            "_view_module": "@jupyter-widgets/base",
            "_view_module_version": "1.2.0",
            "_view_name": "LayoutView",
            "align_content": null,
            "align_items": null,
            "align_self": null,
            "border": null,
            "bottom": null,
            "display": null,
            "flex": null,
            "flex_flow": null,
            "grid_area": null,
            "grid_auto_columns": null,
            "grid_auto_flow": null,
            "grid_auto_rows": null,
            "grid_column": null,
            "grid_gap": null,
            "grid_row": null,
            "grid_template_areas": null,
            "grid_template_columns": null,
            "grid_template_rows": null,
            "height": null,
            "justify_content": null,
            "justify_items": null,
            "left": null,
            "margin": null,
            "max_height": null,
            "max_width": null,
            "min_height": null,
            "min_width": null,
            "object_fit": null,
            "object_position": null,
            "order": null,
            "overflow": null,
            "overflow_x": null,
            "overflow_y": null,
            "padding": null,
            "right": null,
            "top": null,
            "visibility": null,
            "width": null
          }
        },
        "f486bcd5825f4cf5b88f88c66b9d6f56": {
          "model_module": "@jupyter-widgets/base",
          "model_name": "LayoutModel",
          "model_module_version": "1.2.0",
          "state": {
            "_model_module": "@jupyter-widgets/base",
            "_model_module_version": "1.2.0",
            "_model_name": "LayoutModel",
            "_view_count": null,
            "_view_module": "@jupyter-widgets/base",
            "_view_module_version": "1.2.0",
            "_view_name": "LayoutView",
            "align_content": null,
            "align_items": null,
            "align_self": null,
            "border": null,
            "bottom": null,
            "display": null,
            "flex": null,
            "flex_flow": null,
            "grid_area": null,
            "grid_auto_columns": null,
            "grid_auto_flow": null,
            "grid_auto_rows": null,
            "grid_column": null,
            "grid_gap": null,
            "grid_row": null,
            "grid_template_areas": null,
            "grid_template_columns": null,
            "grid_template_rows": null,
            "height": null,
            "justify_content": null,
            "justify_items": null,
            "left": null,
            "margin": null,
            "max_height": null,
            "max_width": null,
            "min_height": null,
            "min_width": null,
            "object_fit": null,
            "object_position": null,
            "order": null,
            "overflow": null,
            "overflow_x": null,
            "overflow_y": null,
            "padding": null,
            "right": null,
            "top": null,
            "visibility": null,
            "width": null
          }
        },
        "ec24fe5de12e467b8cb7e210892c7927": {
          "model_module": "@jupyter-widgets/controls",
          "model_name": "DescriptionStyleModel",
          "model_module_version": "1.5.0",
          "state": {
            "_model_module": "@jupyter-widgets/controls",
            "_model_module_version": "1.5.0",
            "_model_name": "DescriptionStyleModel",
            "_view_count": null,
            "_view_module": "@jupyter-widgets/base",
            "_view_module_version": "1.2.0",
            "_view_name": "StyleView",
            "description_width": ""
          }
        },
        "490e52c0d6954ec68a57196fb418ffe3": {
          "model_module": "@jupyter-widgets/base",
          "model_name": "LayoutModel",
          "model_module_version": "1.2.0",
          "state": {
            "_model_module": "@jupyter-widgets/base",
            "_model_module_version": "1.2.0",
            "_model_name": "LayoutModel",
            "_view_count": null,
            "_view_module": "@jupyter-widgets/base",
            "_view_module_version": "1.2.0",
            "_view_name": "LayoutView",
            "align_content": null,
            "align_items": null,
            "align_self": null,
            "border": null,
            "bottom": null,
            "display": null,
            "flex": null,
            "flex_flow": null,
            "grid_area": null,
            "grid_auto_columns": null,
            "grid_auto_flow": null,
            "grid_auto_rows": null,
            "grid_column": null,
            "grid_gap": null,
            "grid_row": null,
            "grid_template_areas": null,
            "grid_template_columns": null,
            "grid_template_rows": null,
            "height": null,
            "justify_content": null,
            "justify_items": null,
            "left": null,
            "margin": null,
            "max_height": null,
            "max_width": null,
            "min_height": null,
            "min_width": null,
            "object_fit": null,
            "object_position": null,
            "order": null,
            "overflow": null,
            "overflow_x": null,
            "overflow_y": null,
            "padding": null,
            "right": null,
            "top": null,
            "visibility": null,
            "width": null
          }
        },
        "9f825fae4c1c424f87b4e6a81f677a08": {
          "model_module": "@jupyter-widgets/controls",
          "model_name": "ProgressStyleModel",
          "model_module_version": "1.5.0",
          "state": {
            "_model_module": "@jupyter-widgets/controls",
            "_model_module_version": "1.5.0",
            "_model_name": "ProgressStyleModel",
            "_view_count": null,
            "_view_module": "@jupyter-widgets/base",
            "_view_module_version": "1.2.0",
            "_view_name": "StyleView",
            "bar_color": null,
            "description_width": ""
          }
        },
        "057ba0d362af444abc19ae52645849f4": {
          "model_module": "@jupyter-widgets/base",
          "model_name": "LayoutModel",
          "model_module_version": "1.2.0",
          "state": {
            "_model_module": "@jupyter-widgets/base",
            "_model_module_version": "1.2.0",
            "_model_name": "LayoutModel",
            "_view_count": null,
            "_view_module": "@jupyter-widgets/base",
            "_view_module_version": "1.2.0",
            "_view_name": "LayoutView",
            "align_content": null,
            "align_items": null,
            "align_self": null,
            "border": null,
            "bottom": null,
            "display": null,
            "flex": null,
            "flex_flow": null,
            "grid_area": null,
            "grid_auto_columns": null,
            "grid_auto_flow": null,
            "grid_auto_rows": null,
            "grid_column": null,
            "grid_gap": null,
            "grid_row": null,
            "grid_template_areas": null,
            "grid_template_columns": null,
            "grid_template_rows": null,
            "height": null,
            "justify_content": null,
            "justify_items": null,
            "left": null,
            "margin": null,
            "max_height": null,
            "max_width": null,
            "min_height": null,
            "min_width": null,
            "object_fit": null,
            "object_position": null,
            "order": null,
            "overflow": null,
            "overflow_x": null,
            "overflow_y": null,
            "padding": null,
            "right": null,
            "top": null,
            "visibility": null,
            "width": null
          }
        },
        "b309857bbcfb4b8aabd5822103918d8d": {
          "model_module": "@jupyter-widgets/controls",
          "model_name": "DescriptionStyleModel",
          "model_module_version": "1.5.0",
          "state": {
            "_model_module": "@jupyter-widgets/controls",
            "_model_module_version": "1.5.0",
            "_model_name": "DescriptionStyleModel",
            "_view_count": null,
            "_view_module": "@jupyter-widgets/base",
            "_view_module_version": "1.2.0",
            "_view_name": "StyleView",
            "description_width": ""
          }
        }
      }
    }
  },
  "cells": [
    {
      "cell_type": "markdown",
      "metadata": {
        "id": "view-in-github",
        "colab_type": "text"
      },
      "source": [
        "<a href=\"https://colab.research.google.com/github/abhijitguinkatwa/machine-learning-project/blob/main/RBI_resources_data_analysis.ipynb\" target=\"_parent\"><img src=\"https://colab.research.google.com/assets/colab-badge.svg\" alt=\"Open In Colab\"/></a>"
      ]
    },
    {
      "cell_type": "markdown",
      "source": [
        "\n",
        "# AIM -\n",
        "The Aim of this project is to make valuable predictions on **year over year growth** which is very essential in investment banking considering India, as investors usually want to see your year-over-year numbers before supplying you with business capital as well as YOY is a great statistic to use when you want to control the effects of volatility when comparing companies or economies.```\n",
        "`\n"
      ],
      "metadata": {
        "id": "Z90q2jCmdCPG"
      }
    },
    {
      "cell_type": "code",
      "source": [
        "import pandas as pd\n",
        "import numpy as np\n",
        "import matplotlib.pyplot as plt\n",
        "import seaborn as sns"
      ],
      "metadata": {
        "id": "1NdJVeDhdPQ5"
      },
      "execution_count": 1,
      "outputs": []
    },
    {
      "cell_type": "code",
      "source": [
        "df=pd.read_excel('Flow_of_Financial_Resources_from_Scheduled_Commercial_Banks_to_the_Commercial_Sector.xlsx',header=3)"
      ],
      "metadata": {
        "colab": {
          "base_uri": "https://localhost:8080/"
        },
        "id": "IMSsNu9ReFGV",
        "outputId": "310eb61d-e72e-40e0-92b4-3f395ab60aeb"
      },
      "execution_count": 3,
      "outputs": [
        {
          "output_type": "stream",
          "name": "stderr",
          "text": [
            "/usr/local/lib/python3.7/dist-packages/openpyxl/styles/stylesheet.py:226: UserWarning: Workbook contains no default style, apply openpyxl's default\n",
            "  warn(\"Workbook contains no default style, apply openpyxl's default\")\n"
          ]
        }
      ]
    },
    {
      "cell_type": "code",
      "source": [
        "df.head()"
      ],
      "metadata": {
        "colab": {
          "base_uri": "https://localhost:8080/",
          "height": 461
        },
        "id": "AI86j6B_eOSW",
        "outputId": "3ec66067-ea7d-4126-cd27-2227615b0290"
      },
      "execution_count": 5,
      "outputs": [
        {
          "output_type": "execute_result",
          "data": {
            "text/plain": [
              "   Unnamed: 0      Fortnight Ended  Non-food Bank Credit  \\\n",
              "0         NaN                    1          2.000000e+00   \n",
              "1         NaN  2019-09-27 00:00:00          9.711225e+06   \n",
              "2         NaN  2019-09-13 00:00:00          9.646922e+06   \n",
              "3         NaN  2019-08-30 00:00:00          9.617761e+06   \n",
              "4         NaN  2019-08-16 00:00:00          9.619342e+06   \n",
              "\n",
              "   Investments in Commercial Paper  Investments in shares  \\\n",
              "0                           3.0000                 4.0000   \n",
              "1                       93828.7379             83826.5360   \n",
              "2                       94486.4320             83870.0320   \n",
              "3                       95878.8334             83847.1103   \n",
              "4                       98241.7826             83603.1477   \n",
              "\n",
              "   Investments in Bonds/Debentures Total Non-SLR Investments  \\\n",
              "0                           5.0000              6 = (3 to 5)   \n",
              "1                      543412.0020               721067.2759   \n",
              "2                      538088.0210                716444.485   \n",
              "3                      539545.3520               719271.2957   \n",
              "4                      537506.1614               719351.0917   \n",
              "\n",
              "  Adjusted Non-food Bank Credit   Y-o-Y Growth in (7) (%)  \n",
              "0                   7 = (2 + 6)                  8.000000  \n",
              "1                 10432292.5559                  8.474251  \n",
              "2                  10363366.185                  9.819415  \n",
              "3                 10337032.7394                  9.709062  \n",
              "4                 10338692.9675                 11.037356  "
            ],
            "text/html": [
              "\n",
              "  <div id=\"df-52dcbb60-9f71-47b7-81f0-56f51d9b93ea\">\n",
              "    <div class=\"colab-df-container\">\n",
              "      <div>\n",
              "<style scoped>\n",
              "    .dataframe tbody tr th:only-of-type {\n",
              "        vertical-align: middle;\n",
              "    }\n",
              "\n",
              "    .dataframe tbody tr th {\n",
              "        vertical-align: top;\n",
              "    }\n",
              "\n",
              "    .dataframe thead th {\n",
              "        text-align: right;\n",
              "    }\n",
              "</style>\n",
              "<table border=\"1\" class=\"dataframe\">\n",
              "  <thead>\n",
              "    <tr style=\"text-align: right;\">\n",
              "      <th></th>\n",
              "      <th>Unnamed: 0</th>\n",
              "      <th>Fortnight Ended</th>\n",
              "      <th>Non-food Bank Credit</th>\n",
              "      <th>Investments in Commercial Paper</th>\n",
              "      <th>Investments in shares</th>\n",
              "      <th>Investments in Bonds/Debentures</th>\n",
              "      <th>Total Non-SLR Investments</th>\n",
              "      <th>Adjusted Non-food Bank Credit</th>\n",
              "      <th>Y-o-Y Growth in (7) (%)</th>\n",
              "    </tr>\n",
              "  </thead>\n",
              "  <tbody>\n",
              "    <tr>\n",
              "      <th>0</th>\n",
              "      <td>NaN</td>\n",
              "      <td>1</td>\n",
              "      <td>2.000000e+00</td>\n",
              "      <td>3.0000</td>\n",
              "      <td>4.0000</td>\n",
              "      <td>5.0000</td>\n",
              "      <td>6 = (3 to 5)</td>\n",
              "      <td>7 = (2 + 6)</td>\n",
              "      <td>8.000000</td>\n",
              "    </tr>\n",
              "    <tr>\n",
              "      <th>1</th>\n",
              "      <td>NaN</td>\n",
              "      <td>2019-09-27 00:00:00</td>\n",
              "      <td>9.711225e+06</td>\n",
              "      <td>93828.7379</td>\n",
              "      <td>83826.5360</td>\n",
              "      <td>543412.0020</td>\n",
              "      <td>721067.2759</td>\n",
              "      <td>10432292.5559</td>\n",
              "      <td>8.474251</td>\n",
              "    </tr>\n",
              "    <tr>\n",
              "      <th>2</th>\n",
              "      <td>NaN</td>\n",
              "      <td>2019-09-13 00:00:00</td>\n",
              "      <td>9.646922e+06</td>\n",
              "      <td>94486.4320</td>\n",
              "      <td>83870.0320</td>\n",
              "      <td>538088.0210</td>\n",
              "      <td>716444.485</td>\n",
              "      <td>10363366.185</td>\n",
              "      <td>9.819415</td>\n",
              "    </tr>\n",
              "    <tr>\n",
              "      <th>3</th>\n",
              "      <td>NaN</td>\n",
              "      <td>2019-08-30 00:00:00</td>\n",
              "      <td>9.617761e+06</td>\n",
              "      <td>95878.8334</td>\n",
              "      <td>83847.1103</td>\n",
              "      <td>539545.3520</td>\n",
              "      <td>719271.2957</td>\n",
              "      <td>10337032.7394</td>\n",
              "      <td>9.709062</td>\n",
              "    </tr>\n",
              "    <tr>\n",
              "      <th>4</th>\n",
              "      <td>NaN</td>\n",
              "      <td>2019-08-16 00:00:00</td>\n",
              "      <td>9.619342e+06</td>\n",
              "      <td>98241.7826</td>\n",
              "      <td>83603.1477</td>\n",
              "      <td>537506.1614</td>\n",
              "      <td>719351.0917</td>\n",
              "      <td>10338692.9675</td>\n",
              "      <td>11.037356</td>\n",
              "    </tr>\n",
              "  </tbody>\n",
              "</table>\n",
              "</div>\n",
              "      <button class=\"colab-df-convert\" onclick=\"convertToInteractive('df-52dcbb60-9f71-47b7-81f0-56f51d9b93ea')\"\n",
              "              title=\"Convert this dataframe to an interactive table.\"\n",
              "              style=\"display:none;\">\n",
              "        \n",
              "  <svg xmlns=\"http://www.w3.org/2000/svg\" height=\"24px\"viewBox=\"0 0 24 24\"\n",
              "       width=\"24px\">\n",
              "    <path d=\"M0 0h24v24H0V0z\" fill=\"none\"/>\n",
              "    <path d=\"M18.56 5.44l.94 2.06.94-2.06 2.06-.94-2.06-.94-.94-2.06-.94 2.06-2.06.94zm-11 1L8.5 8.5l.94-2.06 2.06-.94-2.06-.94L8.5 2.5l-.94 2.06-2.06.94zm10 10l.94 2.06.94-2.06 2.06-.94-2.06-.94-.94-2.06-.94 2.06-2.06.94z\"/><path d=\"M17.41 7.96l-1.37-1.37c-.4-.4-.92-.59-1.43-.59-.52 0-1.04.2-1.43.59L10.3 9.45l-7.72 7.72c-.78.78-.78 2.05 0 2.83L4 21.41c.39.39.9.59 1.41.59.51 0 1.02-.2 1.41-.59l7.78-7.78 2.81-2.81c.8-.78.8-2.07 0-2.86zM5.41 20L4 18.59l7.72-7.72 1.47 1.35L5.41 20z\"/>\n",
              "  </svg>\n",
              "      </button>\n",
              "      \n",
              "  <style>\n",
              "    .colab-df-container {\n",
              "      display:flex;\n",
              "      flex-wrap:wrap;\n",
              "      gap: 12px;\n",
              "    }\n",
              "\n",
              "    .colab-df-convert {\n",
              "      background-color: #E8F0FE;\n",
              "      border: none;\n",
              "      border-radius: 50%;\n",
              "      cursor: pointer;\n",
              "      display: none;\n",
              "      fill: #1967D2;\n",
              "      height: 32px;\n",
              "      padding: 0 0 0 0;\n",
              "      width: 32px;\n",
              "    }\n",
              "\n",
              "    .colab-df-convert:hover {\n",
              "      background-color: #E2EBFA;\n",
              "      box-shadow: 0px 1px 2px rgba(60, 64, 67, 0.3), 0px 1px 3px 1px rgba(60, 64, 67, 0.15);\n",
              "      fill: #174EA6;\n",
              "    }\n",
              "\n",
              "    [theme=dark] .colab-df-convert {\n",
              "      background-color: #3B4455;\n",
              "      fill: #D2E3FC;\n",
              "    }\n",
              "\n",
              "    [theme=dark] .colab-df-convert:hover {\n",
              "      background-color: #434B5C;\n",
              "      box-shadow: 0px 1px 3px 1px rgba(0, 0, 0, 0.15);\n",
              "      filter: drop-shadow(0px 1px 2px rgba(0, 0, 0, 0.3));\n",
              "      fill: #FFFFFF;\n",
              "    }\n",
              "  </style>\n",
              "\n",
              "      <script>\n",
              "        const buttonEl =\n",
              "          document.querySelector('#df-52dcbb60-9f71-47b7-81f0-56f51d9b93ea button.colab-df-convert');\n",
              "        buttonEl.style.display =\n",
              "          google.colab.kernel.accessAllowed ? 'block' : 'none';\n",
              "\n",
              "        async function convertToInteractive(key) {\n",
              "          const element = document.querySelector('#df-52dcbb60-9f71-47b7-81f0-56f51d9b93ea');\n",
              "          const dataTable =\n",
              "            await google.colab.kernel.invokeFunction('convertToInteractive',\n",
              "                                                     [key], {});\n",
              "          if (!dataTable) return;\n",
              "\n",
              "          const docLinkHtml = 'Like what you see? Visit the ' +\n",
              "            '<a target=\"_blank\" href=https://colab.research.google.com/notebooks/data_table.ipynb>data table notebook</a>'\n",
              "            + ' to learn more about interactive tables.';\n",
              "          element.innerHTML = '';\n",
              "          dataTable['output_type'] = 'display_data';\n",
              "          await google.colab.output.renderOutput(dataTable, element);\n",
              "          const docLink = document.createElement('div');\n",
              "          docLink.innerHTML = docLinkHtml;\n",
              "          element.appendChild(docLink);\n",
              "        }\n",
              "      </script>\n",
              "    </div>\n",
              "  </div>\n",
              "  "
            ]
          },
          "metadata": {},
          "execution_count": 5
        }
      ]
    },
    {
      "cell_type": "code",
      "source": [
        "df.drop('Unnamed: 0',axis=1,inplace=True) #dropping the unnamed column as it has only NaN values along vertical axis"
      ],
      "metadata": {
        "id": "uAGDrr_web_4"
      },
      "execution_count": 6,
      "outputs": []
    },
    {
      "cell_type": "code",
      "source": [
        "df.head()"
      ],
      "metadata": {
        "colab": {
          "base_uri": "https://localhost:8080/",
          "height": 461
        },
        "id": "Lf0g1bQSee9k",
        "outputId": "35e568d3-ed3b-4f87-e5d2-a32f237bb24f"
      },
      "execution_count": 7,
      "outputs": [
        {
          "output_type": "execute_result",
          "data": {
            "text/plain": [
              "       Fortnight Ended  Non-food Bank Credit  Investments in Commercial Paper  \\\n",
              "0                    1          2.000000e+00                           3.0000   \n",
              "1  2019-09-27 00:00:00          9.711225e+06                       93828.7379   \n",
              "2  2019-09-13 00:00:00          9.646922e+06                       94486.4320   \n",
              "3  2019-08-30 00:00:00          9.617761e+06                       95878.8334   \n",
              "4  2019-08-16 00:00:00          9.619342e+06                       98241.7826   \n",
              "\n",
              "   Investments in shares  Investments in Bonds/Debentures  \\\n",
              "0                 4.0000                           5.0000   \n",
              "1             83826.5360                      543412.0020   \n",
              "2             83870.0320                      538088.0210   \n",
              "3             83847.1103                      539545.3520   \n",
              "4             83603.1477                      537506.1614   \n",
              "\n",
              "  Total Non-SLR Investments Adjusted Non-food Bank Credit  \\\n",
              "0              6 = (3 to 5)                   7 = (2 + 6)   \n",
              "1               721067.2759                 10432292.5559   \n",
              "2                716444.485                  10363366.185   \n",
              "3               719271.2957                 10337032.7394   \n",
              "4               719351.0917                 10338692.9675   \n",
              "\n",
              "    Y-o-Y Growth in (7) (%)  \n",
              "0                  8.000000  \n",
              "1                  8.474251  \n",
              "2                  9.819415  \n",
              "3                  9.709062  \n",
              "4                 11.037356  "
            ],
            "text/html": [
              "\n",
              "  <div id=\"df-239adfd1-c8db-42f5-9fd0-ae15b494e42b\">\n",
              "    <div class=\"colab-df-container\">\n",
              "      <div>\n",
              "<style scoped>\n",
              "    .dataframe tbody tr th:only-of-type {\n",
              "        vertical-align: middle;\n",
              "    }\n",
              "\n",
              "    .dataframe tbody tr th {\n",
              "        vertical-align: top;\n",
              "    }\n",
              "\n",
              "    .dataframe thead th {\n",
              "        text-align: right;\n",
              "    }\n",
              "</style>\n",
              "<table border=\"1\" class=\"dataframe\">\n",
              "  <thead>\n",
              "    <tr style=\"text-align: right;\">\n",
              "      <th></th>\n",
              "      <th>Fortnight Ended</th>\n",
              "      <th>Non-food Bank Credit</th>\n",
              "      <th>Investments in Commercial Paper</th>\n",
              "      <th>Investments in shares</th>\n",
              "      <th>Investments in Bonds/Debentures</th>\n",
              "      <th>Total Non-SLR Investments</th>\n",
              "      <th>Adjusted Non-food Bank Credit</th>\n",
              "      <th>Y-o-Y Growth in (7) (%)</th>\n",
              "    </tr>\n",
              "  </thead>\n",
              "  <tbody>\n",
              "    <tr>\n",
              "      <th>0</th>\n",
              "      <td>1</td>\n",
              "      <td>2.000000e+00</td>\n",
              "      <td>3.0000</td>\n",
              "      <td>4.0000</td>\n",
              "      <td>5.0000</td>\n",
              "      <td>6 = (3 to 5)</td>\n",
              "      <td>7 = (2 + 6)</td>\n",
              "      <td>8.000000</td>\n",
              "    </tr>\n",
              "    <tr>\n",
              "      <th>1</th>\n",
              "      <td>2019-09-27 00:00:00</td>\n",
              "      <td>9.711225e+06</td>\n",
              "      <td>93828.7379</td>\n",
              "      <td>83826.5360</td>\n",
              "      <td>543412.0020</td>\n",
              "      <td>721067.2759</td>\n",
              "      <td>10432292.5559</td>\n",
              "      <td>8.474251</td>\n",
              "    </tr>\n",
              "    <tr>\n",
              "      <th>2</th>\n",
              "      <td>2019-09-13 00:00:00</td>\n",
              "      <td>9.646922e+06</td>\n",
              "      <td>94486.4320</td>\n",
              "      <td>83870.0320</td>\n",
              "      <td>538088.0210</td>\n",
              "      <td>716444.485</td>\n",
              "      <td>10363366.185</td>\n",
              "      <td>9.819415</td>\n",
              "    </tr>\n",
              "    <tr>\n",
              "      <th>3</th>\n",
              "      <td>2019-08-30 00:00:00</td>\n",
              "      <td>9.617761e+06</td>\n",
              "      <td>95878.8334</td>\n",
              "      <td>83847.1103</td>\n",
              "      <td>539545.3520</td>\n",
              "      <td>719271.2957</td>\n",
              "      <td>10337032.7394</td>\n",
              "      <td>9.709062</td>\n",
              "    </tr>\n",
              "    <tr>\n",
              "      <th>4</th>\n",
              "      <td>2019-08-16 00:00:00</td>\n",
              "      <td>9.619342e+06</td>\n",
              "      <td>98241.7826</td>\n",
              "      <td>83603.1477</td>\n",
              "      <td>537506.1614</td>\n",
              "      <td>719351.0917</td>\n",
              "      <td>10338692.9675</td>\n",
              "      <td>11.037356</td>\n",
              "    </tr>\n",
              "  </tbody>\n",
              "</table>\n",
              "</div>\n",
              "      <button class=\"colab-df-convert\" onclick=\"convertToInteractive('df-239adfd1-c8db-42f5-9fd0-ae15b494e42b')\"\n",
              "              title=\"Convert this dataframe to an interactive table.\"\n",
              "              style=\"display:none;\">\n",
              "        \n",
              "  <svg xmlns=\"http://www.w3.org/2000/svg\" height=\"24px\"viewBox=\"0 0 24 24\"\n",
              "       width=\"24px\">\n",
              "    <path d=\"M0 0h24v24H0V0z\" fill=\"none\"/>\n",
              "    <path d=\"M18.56 5.44l.94 2.06.94-2.06 2.06-.94-2.06-.94-.94-2.06-.94 2.06-2.06.94zm-11 1L8.5 8.5l.94-2.06 2.06-.94-2.06-.94L8.5 2.5l-.94 2.06-2.06.94zm10 10l.94 2.06.94-2.06 2.06-.94-2.06-.94-.94-2.06-.94 2.06-2.06.94z\"/><path d=\"M17.41 7.96l-1.37-1.37c-.4-.4-.92-.59-1.43-.59-.52 0-1.04.2-1.43.59L10.3 9.45l-7.72 7.72c-.78.78-.78 2.05 0 2.83L4 21.41c.39.39.9.59 1.41.59.51 0 1.02-.2 1.41-.59l7.78-7.78 2.81-2.81c.8-.78.8-2.07 0-2.86zM5.41 20L4 18.59l7.72-7.72 1.47 1.35L5.41 20z\"/>\n",
              "  </svg>\n",
              "      </button>\n",
              "      \n",
              "  <style>\n",
              "    .colab-df-container {\n",
              "      display:flex;\n",
              "      flex-wrap:wrap;\n",
              "      gap: 12px;\n",
              "    }\n",
              "\n",
              "    .colab-df-convert {\n",
              "      background-color: #E8F0FE;\n",
              "      border: none;\n",
              "      border-radius: 50%;\n",
              "      cursor: pointer;\n",
              "      display: none;\n",
              "      fill: #1967D2;\n",
              "      height: 32px;\n",
              "      padding: 0 0 0 0;\n",
              "      width: 32px;\n",
              "    }\n",
              "\n",
              "    .colab-df-convert:hover {\n",
              "      background-color: #E2EBFA;\n",
              "      box-shadow: 0px 1px 2px rgba(60, 64, 67, 0.3), 0px 1px 3px 1px rgba(60, 64, 67, 0.15);\n",
              "      fill: #174EA6;\n",
              "    }\n",
              "\n",
              "    [theme=dark] .colab-df-convert {\n",
              "      background-color: #3B4455;\n",
              "      fill: #D2E3FC;\n",
              "    }\n",
              "\n",
              "    [theme=dark] .colab-df-convert:hover {\n",
              "      background-color: #434B5C;\n",
              "      box-shadow: 0px 1px 3px 1px rgba(0, 0, 0, 0.15);\n",
              "      filter: drop-shadow(0px 1px 2px rgba(0, 0, 0, 0.3));\n",
              "      fill: #FFFFFF;\n",
              "    }\n",
              "  </style>\n",
              "\n",
              "      <script>\n",
              "        const buttonEl =\n",
              "          document.querySelector('#df-239adfd1-c8db-42f5-9fd0-ae15b494e42b button.colab-df-convert');\n",
              "        buttonEl.style.display =\n",
              "          google.colab.kernel.accessAllowed ? 'block' : 'none';\n",
              "\n",
              "        async function convertToInteractive(key) {\n",
              "          const element = document.querySelector('#df-239adfd1-c8db-42f5-9fd0-ae15b494e42b');\n",
              "          const dataTable =\n",
              "            await google.colab.kernel.invokeFunction('convertToInteractive',\n",
              "                                                     [key], {});\n",
              "          if (!dataTable) return;\n",
              "\n",
              "          const docLinkHtml = 'Like what you see? Visit the ' +\n",
              "            '<a target=\"_blank\" href=https://colab.research.google.com/notebooks/data_table.ipynb>data table notebook</a>'\n",
              "            + ' to learn more about interactive tables.';\n",
              "          element.innerHTML = '';\n",
              "          dataTable['output_type'] = 'display_data';\n",
              "          await google.colab.output.renderOutput(dataTable, element);\n",
              "          const docLink = document.createElement('div');\n",
              "          docLink.innerHTML = docLinkHtml;\n",
              "          element.appendChild(docLink);\n",
              "        }\n",
              "      </script>\n",
              "    </div>\n",
              "  </div>\n",
              "  "
            ]
          },
          "metadata": {},
          "execution_count": 7
        }
      ]
    },
    {
      "cell_type": "code",
      "source": [
        "df.drop(0,axis=0,inplace=True) #dropping the row with index 0 using drop method of pandas Dataframe "
      ],
      "metadata": {
        "id": "4SsyQuZgel00"
      },
      "execution_count": 8,
      "outputs": []
    },
    {
      "cell_type": "code",
      "source": [
        "df.head()  #displaying the head of dataframe(head cdisplays first 5 rows)"
      ],
      "metadata": {
        "colab": {
          "base_uri": "https://localhost:8080/",
          "height": 496
        },
        "id": "o6lpBCtUerUd",
        "outputId": "9fd2fcc6-32a8-428f-dcf5-6d317b753ac1"
      },
      "execution_count": 9,
      "outputs": [
        {
          "output_type": "execute_result",
          "data": {
            "text/plain": [
              "       Fortnight Ended  Non-food Bank Credit  Investments in Commercial Paper  \\\n",
              "1  2019-09-27 00:00:00          9.711225e+06                       93828.7379   \n",
              "2  2019-09-13 00:00:00          9.646922e+06                       94486.4320   \n",
              "3  2019-08-30 00:00:00          9.617761e+06                       95878.8334   \n",
              "4  2019-08-16 00:00:00          9.619342e+06                       98241.7826   \n",
              "5  2019-08-02 00:00:00          9.666255e+06                       96892.3612   \n",
              "\n",
              "   Investments in shares  Investments in Bonds/Debentures  \\\n",
              "1             83826.5360                      543412.0020   \n",
              "2             83870.0320                      538088.0210   \n",
              "3             83847.1103                      539545.3520   \n",
              "4             83603.1477                      537506.1614   \n",
              "5             83606.2974                      541910.6786   \n",
              "\n",
              "  Total Non-SLR Investments Adjusted Non-food Bank Credit  \\\n",
              "1               721067.2759                 10432292.5559   \n",
              "2                716444.485                  10363366.185   \n",
              "3               719271.2957                 10337032.7394   \n",
              "4               719351.0917                 10338692.9675   \n",
              "5               722409.3372                 10388663.9202   \n",
              "\n",
              "    Y-o-Y Growth in (7) (%)  \n",
              "1                  8.474251  \n",
              "2                  9.819415  \n",
              "3                  9.709062  \n",
              "4                 11.037356  \n",
              "5                 11.408090  "
            ],
            "text/html": [
              "\n",
              "  <div id=\"df-0de4768f-d979-49a3-b59d-d1aecea44780\">\n",
              "    <div class=\"colab-df-container\">\n",
              "      <div>\n",
              "<style scoped>\n",
              "    .dataframe tbody tr th:only-of-type {\n",
              "        vertical-align: middle;\n",
              "    }\n",
              "\n",
              "    .dataframe tbody tr th {\n",
              "        vertical-align: top;\n",
              "    }\n",
              "\n",
              "    .dataframe thead th {\n",
              "        text-align: right;\n",
              "    }\n",
              "</style>\n",
              "<table border=\"1\" class=\"dataframe\">\n",
              "  <thead>\n",
              "    <tr style=\"text-align: right;\">\n",
              "      <th></th>\n",
              "      <th>Fortnight Ended</th>\n",
              "      <th>Non-food Bank Credit</th>\n",
              "      <th>Investments in Commercial Paper</th>\n",
              "      <th>Investments in shares</th>\n",
              "      <th>Investments in Bonds/Debentures</th>\n",
              "      <th>Total Non-SLR Investments</th>\n",
              "      <th>Adjusted Non-food Bank Credit</th>\n",
              "      <th>Y-o-Y Growth in (7) (%)</th>\n",
              "    </tr>\n",
              "  </thead>\n",
              "  <tbody>\n",
              "    <tr>\n",
              "      <th>1</th>\n",
              "      <td>2019-09-27 00:00:00</td>\n",
              "      <td>9.711225e+06</td>\n",
              "      <td>93828.7379</td>\n",
              "      <td>83826.5360</td>\n",
              "      <td>543412.0020</td>\n",
              "      <td>721067.2759</td>\n",
              "      <td>10432292.5559</td>\n",
              "      <td>8.474251</td>\n",
              "    </tr>\n",
              "    <tr>\n",
              "      <th>2</th>\n",
              "      <td>2019-09-13 00:00:00</td>\n",
              "      <td>9.646922e+06</td>\n",
              "      <td>94486.4320</td>\n",
              "      <td>83870.0320</td>\n",
              "      <td>538088.0210</td>\n",
              "      <td>716444.485</td>\n",
              "      <td>10363366.185</td>\n",
              "      <td>9.819415</td>\n",
              "    </tr>\n",
              "    <tr>\n",
              "      <th>3</th>\n",
              "      <td>2019-08-30 00:00:00</td>\n",
              "      <td>9.617761e+06</td>\n",
              "      <td>95878.8334</td>\n",
              "      <td>83847.1103</td>\n",
              "      <td>539545.3520</td>\n",
              "      <td>719271.2957</td>\n",
              "      <td>10337032.7394</td>\n",
              "      <td>9.709062</td>\n",
              "    </tr>\n",
              "    <tr>\n",
              "      <th>4</th>\n",
              "      <td>2019-08-16 00:00:00</td>\n",
              "      <td>9.619342e+06</td>\n",
              "      <td>98241.7826</td>\n",
              "      <td>83603.1477</td>\n",
              "      <td>537506.1614</td>\n",
              "      <td>719351.0917</td>\n",
              "      <td>10338692.9675</td>\n",
              "      <td>11.037356</td>\n",
              "    </tr>\n",
              "    <tr>\n",
              "      <th>5</th>\n",
              "      <td>2019-08-02 00:00:00</td>\n",
              "      <td>9.666255e+06</td>\n",
              "      <td>96892.3612</td>\n",
              "      <td>83606.2974</td>\n",
              "      <td>541910.6786</td>\n",
              "      <td>722409.3372</td>\n",
              "      <td>10388663.9202</td>\n",
              "      <td>11.408090</td>\n",
              "    </tr>\n",
              "  </tbody>\n",
              "</table>\n",
              "</div>\n",
              "      <button class=\"colab-df-convert\" onclick=\"convertToInteractive('df-0de4768f-d979-49a3-b59d-d1aecea44780')\"\n",
              "              title=\"Convert this dataframe to an interactive table.\"\n",
              "              style=\"display:none;\">\n",
              "        \n",
              "  <svg xmlns=\"http://www.w3.org/2000/svg\" height=\"24px\"viewBox=\"0 0 24 24\"\n",
              "       width=\"24px\">\n",
              "    <path d=\"M0 0h24v24H0V0z\" fill=\"none\"/>\n",
              "    <path d=\"M18.56 5.44l.94 2.06.94-2.06 2.06-.94-2.06-.94-.94-2.06-.94 2.06-2.06.94zm-11 1L8.5 8.5l.94-2.06 2.06-.94-2.06-.94L8.5 2.5l-.94 2.06-2.06.94zm10 10l.94 2.06.94-2.06 2.06-.94-2.06-.94-.94-2.06-.94 2.06-2.06.94z\"/><path d=\"M17.41 7.96l-1.37-1.37c-.4-.4-.92-.59-1.43-.59-.52 0-1.04.2-1.43.59L10.3 9.45l-7.72 7.72c-.78.78-.78 2.05 0 2.83L4 21.41c.39.39.9.59 1.41.59.51 0 1.02-.2 1.41-.59l7.78-7.78 2.81-2.81c.8-.78.8-2.07 0-2.86zM5.41 20L4 18.59l7.72-7.72 1.47 1.35L5.41 20z\"/>\n",
              "  </svg>\n",
              "      </button>\n",
              "      \n",
              "  <style>\n",
              "    .colab-df-container {\n",
              "      display:flex;\n",
              "      flex-wrap:wrap;\n",
              "      gap: 12px;\n",
              "    }\n",
              "\n",
              "    .colab-df-convert {\n",
              "      background-color: #E8F0FE;\n",
              "      border: none;\n",
              "      border-radius: 50%;\n",
              "      cursor: pointer;\n",
              "      display: none;\n",
              "      fill: #1967D2;\n",
              "      height: 32px;\n",
              "      padding: 0 0 0 0;\n",
              "      width: 32px;\n",
              "    }\n",
              "\n",
              "    .colab-df-convert:hover {\n",
              "      background-color: #E2EBFA;\n",
              "      box-shadow: 0px 1px 2px rgba(60, 64, 67, 0.3), 0px 1px 3px 1px rgba(60, 64, 67, 0.15);\n",
              "      fill: #174EA6;\n",
              "    }\n",
              "\n",
              "    [theme=dark] .colab-df-convert {\n",
              "      background-color: #3B4455;\n",
              "      fill: #D2E3FC;\n",
              "    }\n",
              "\n",
              "    [theme=dark] .colab-df-convert:hover {\n",
              "      background-color: #434B5C;\n",
              "      box-shadow: 0px 1px 3px 1px rgba(0, 0, 0, 0.15);\n",
              "      filter: drop-shadow(0px 1px 2px rgba(0, 0, 0, 0.3));\n",
              "      fill: #FFFFFF;\n",
              "    }\n",
              "  </style>\n",
              "\n",
              "      <script>\n",
              "        const buttonEl =\n",
              "          document.querySelector('#df-0de4768f-d979-49a3-b59d-d1aecea44780 button.colab-df-convert');\n",
              "        buttonEl.style.display =\n",
              "          google.colab.kernel.accessAllowed ? 'block' : 'none';\n",
              "\n",
              "        async function convertToInteractive(key) {\n",
              "          const element = document.querySelector('#df-0de4768f-d979-49a3-b59d-d1aecea44780');\n",
              "          const dataTable =\n",
              "            await google.colab.kernel.invokeFunction('convertToInteractive',\n",
              "                                                     [key], {});\n",
              "          if (!dataTable) return;\n",
              "\n",
              "          const docLinkHtml = 'Like what you see? Visit the ' +\n",
              "            '<a target=\"_blank\" href=https://colab.research.google.com/notebooks/data_table.ipynb>data table notebook</a>'\n",
              "            + ' to learn more about interactive tables.';\n",
              "          element.innerHTML = '';\n",
              "          dataTable['output_type'] = 'display_data';\n",
              "          await google.colab.output.renderOutput(dataTable, element);\n",
              "          const docLink = document.createElement('div');\n",
              "          docLink.innerHTML = docLinkHtml;\n",
              "          element.appendChild(docLink);\n",
              "        }\n",
              "      </script>\n",
              "    </div>\n",
              "  </div>\n",
              "  "
            ]
          },
          "metadata": {},
          "execution_count": 9
        }
      ]
    },
    {
      "cell_type": "code",
      "source": [
        "df.isna().sum()  #finding the sum of null vlaues along each column"
      ],
      "metadata": {
        "colab": {
          "base_uri": "https://localhost:8080/"
        },
        "id": "bQQBL1PRexo1",
        "outputId": "995454ef-6da5-4c1d-8b59-6295b5d423f3"
      },
      "execution_count": 10,
      "outputs": [
        {
          "output_type": "execute_result",
          "data": {
            "text/plain": [
              "Fortnight Ended                    0\n",
              "Non-food Bank Credit               0\n",
              "Investments in Commercial Paper    0\n",
              "Investments in shares              0\n",
              "Investments in Bonds/Debentures    0\n",
              "Total Non-SLR Investments          0\n",
              "Adjusted Non-food Bank Credit      0\n",
              " Y-o-Y Growth in (7) (%)           0\n",
              "dtype: int64"
            ]
          },
          "metadata": {},
          "execution_count": 10
        }
      ]
    },
    {
      "cell_type": "code",
      "source": [
        "df.shape #df.shape outputs the shape of the dataframe"
      ],
      "metadata": {
        "colab": {
          "base_uri": "https://localhost:8080/"
        },
        "id": "0zDICi7Re643",
        "outputId": "27337970-4c0b-4607-d405-18434733687f"
      },
      "execution_count": 11,
      "outputs": [
        {
          "output_type": "execute_result",
          "data": {
            "text/plain": [
              "(65, 8)"
            ]
          },
          "metadata": {},
          "execution_count": 11
        }
      ]
    },
    {
      "cell_type": "code",
      "source": [
        "df.index"
      ],
      "metadata": {
        "colab": {
          "base_uri": "https://localhost:8080/"
        },
        "id": "jfMpABF2e9vV",
        "outputId": "0e7e80a5-6b4a-49ea-bce0-a26703960135"
      },
      "execution_count": 12,
      "outputs": [
        {
          "output_type": "execute_result",
          "data": {
            "text/plain": [
              "Int64Index([ 1,  2,  3,  4,  5,  6,  7,  8,  9, 10, 11, 12, 13, 14, 15, 16, 17,\n",
              "            18, 19, 20, 21, 22, 23, 24, 25, 26, 27, 28, 29, 30, 31, 32, 33, 34,\n",
              "            35, 36, 37, 38, 39, 40, 41, 42, 43, 44, 45, 46, 47, 48, 49, 50, 51,\n",
              "            52, 53, 54, 55, 56, 57, 58, 59, 60, 61, 62, 63, 64, 65],\n",
              "           dtype='int64')"
            ]
          },
          "metadata": {},
          "execution_count": 12
        }
      ]
    },
    {
      "cell_type": "code",
      "source": [
        "df['Fortnight Ended']"
      ],
      "metadata": {
        "colab": {
          "base_uri": "https://localhost:8080/"
        },
        "id": "k4eVfiU-fCBV",
        "outputId": "61ab6e57-489a-42c8-a0cf-761c062d2e6e"
      },
      "execution_count": 13,
      "outputs": [
        {
          "output_type": "execute_result",
          "data": {
            "text/plain": [
              "1     2019-09-27 00:00:00\n",
              "2     2019-09-13 00:00:00\n",
              "3     2019-08-30 00:00:00\n",
              "4     2019-08-16 00:00:00\n",
              "5     2019-08-02 00:00:00\n",
              "             ...         \n",
              "61    2017-06-09 00:00:00\n",
              "62    2017-05-26 00:00:00\n",
              "63    2017-05-12 00:00:00\n",
              "64    2017-04-28 00:00:00\n",
              "65    2017-04-14 00:00:00\n",
              "Name: Fortnight Ended, Length: 65, dtype: object"
            ]
          },
          "metadata": {},
          "execution_count": 13
        }
      ]
    },
    {
      "cell_type": "code",
      "source": [
        "df.index=df['Fortnight Ended']  \n",
        "df.drop('Fortnight Ended',axis=1,inplace=True) "
      ],
      "metadata": {
        "id": "fvTruBUGfJmE"
      },
      "execution_count": 14,
      "outputs": []
    },
    {
      "cell_type": "code",
      "source": [
        "df.head() "
      ],
      "metadata": {
        "colab": {
          "base_uri": "https://localhost:8080/",
          "height": 458
        },
        "id": "8C2KV5xIfOFU",
        "outputId": "8393fecb-f241-47a8-8561-db976ffbb616"
      },
      "execution_count": 15,
      "outputs": [
        {
          "output_type": "execute_result",
          "data": {
            "text/plain": [
              "                 Non-food Bank Credit  Investments in Commercial Paper  \\\n",
              "Fortnight Ended                                                          \n",
              "2019-09-27               9.711225e+06                       93828.7379   \n",
              "2019-09-13               9.646922e+06                       94486.4320   \n",
              "2019-08-30               9.617761e+06                       95878.8334   \n",
              "2019-08-16               9.619342e+06                       98241.7826   \n",
              "2019-08-02               9.666255e+06                       96892.3612   \n",
              "\n",
              "                 Investments in shares  Investments in Bonds/Debentures  \\\n",
              "Fortnight Ended                                                           \n",
              "2019-09-27                  83826.5360                      543412.0020   \n",
              "2019-09-13                  83870.0320                      538088.0210   \n",
              "2019-08-30                  83847.1103                      539545.3520   \n",
              "2019-08-16                  83603.1477                      537506.1614   \n",
              "2019-08-02                  83606.2974                      541910.6786   \n",
              "\n",
              "                Total Non-SLR Investments Adjusted Non-food Bank Credit  \\\n",
              "Fortnight Ended                                                           \n",
              "2019-09-27                    721067.2759                 10432292.5559   \n",
              "2019-09-13                     716444.485                  10363366.185   \n",
              "2019-08-30                    719271.2957                 10337032.7394   \n",
              "2019-08-16                    719351.0917                 10338692.9675   \n",
              "2019-08-02                    722409.3372                 10388663.9202   \n",
              "\n",
              "                  Y-o-Y Growth in (7) (%)  \n",
              "Fortnight Ended                            \n",
              "2019-09-27                       8.474251  \n",
              "2019-09-13                       9.819415  \n",
              "2019-08-30                       9.709062  \n",
              "2019-08-16                      11.037356  \n",
              "2019-08-02                      11.408090  "
            ],
            "text/html": [
              "\n",
              "  <div id=\"df-95c6d79d-8a59-4451-9ed0-c72302c096e0\">\n",
              "    <div class=\"colab-df-container\">\n",
              "      <div>\n",
              "<style scoped>\n",
              "    .dataframe tbody tr th:only-of-type {\n",
              "        vertical-align: middle;\n",
              "    }\n",
              "\n",
              "    .dataframe tbody tr th {\n",
              "        vertical-align: top;\n",
              "    }\n",
              "\n",
              "    .dataframe thead th {\n",
              "        text-align: right;\n",
              "    }\n",
              "</style>\n",
              "<table border=\"1\" class=\"dataframe\">\n",
              "  <thead>\n",
              "    <tr style=\"text-align: right;\">\n",
              "      <th></th>\n",
              "      <th>Non-food Bank Credit</th>\n",
              "      <th>Investments in Commercial Paper</th>\n",
              "      <th>Investments in shares</th>\n",
              "      <th>Investments in Bonds/Debentures</th>\n",
              "      <th>Total Non-SLR Investments</th>\n",
              "      <th>Adjusted Non-food Bank Credit</th>\n",
              "      <th>Y-o-Y Growth in (7) (%)</th>\n",
              "    </tr>\n",
              "    <tr>\n",
              "      <th>Fortnight Ended</th>\n",
              "      <th></th>\n",
              "      <th></th>\n",
              "      <th></th>\n",
              "      <th></th>\n",
              "      <th></th>\n",
              "      <th></th>\n",
              "      <th></th>\n",
              "    </tr>\n",
              "  </thead>\n",
              "  <tbody>\n",
              "    <tr>\n",
              "      <th>2019-09-27</th>\n",
              "      <td>9.711225e+06</td>\n",
              "      <td>93828.7379</td>\n",
              "      <td>83826.5360</td>\n",
              "      <td>543412.0020</td>\n",
              "      <td>721067.2759</td>\n",
              "      <td>10432292.5559</td>\n",
              "      <td>8.474251</td>\n",
              "    </tr>\n",
              "    <tr>\n",
              "      <th>2019-09-13</th>\n",
              "      <td>9.646922e+06</td>\n",
              "      <td>94486.4320</td>\n",
              "      <td>83870.0320</td>\n",
              "      <td>538088.0210</td>\n",
              "      <td>716444.485</td>\n",
              "      <td>10363366.185</td>\n",
              "      <td>9.819415</td>\n",
              "    </tr>\n",
              "    <tr>\n",
              "      <th>2019-08-30</th>\n",
              "      <td>9.617761e+06</td>\n",
              "      <td>95878.8334</td>\n",
              "      <td>83847.1103</td>\n",
              "      <td>539545.3520</td>\n",
              "      <td>719271.2957</td>\n",
              "      <td>10337032.7394</td>\n",
              "      <td>9.709062</td>\n",
              "    </tr>\n",
              "    <tr>\n",
              "      <th>2019-08-16</th>\n",
              "      <td>9.619342e+06</td>\n",
              "      <td>98241.7826</td>\n",
              "      <td>83603.1477</td>\n",
              "      <td>537506.1614</td>\n",
              "      <td>719351.0917</td>\n",
              "      <td>10338692.9675</td>\n",
              "      <td>11.037356</td>\n",
              "    </tr>\n",
              "    <tr>\n",
              "      <th>2019-08-02</th>\n",
              "      <td>9.666255e+06</td>\n",
              "      <td>96892.3612</td>\n",
              "      <td>83606.2974</td>\n",
              "      <td>541910.6786</td>\n",
              "      <td>722409.3372</td>\n",
              "      <td>10388663.9202</td>\n",
              "      <td>11.408090</td>\n",
              "    </tr>\n",
              "  </tbody>\n",
              "</table>\n",
              "</div>\n",
              "      <button class=\"colab-df-convert\" onclick=\"convertToInteractive('df-95c6d79d-8a59-4451-9ed0-c72302c096e0')\"\n",
              "              title=\"Convert this dataframe to an interactive table.\"\n",
              "              style=\"display:none;\">\n",
              "        \n",
              "  <svg xmlns=\"http://www.w3.org/2000/svg\" height=\"24px\"viewBox=\"0 0 24 24\"\n",
              "       width=\"24px\">\n",
              "    <path d=\"M0 0h24v24H0V0z\" fill=\"none\"/>\n",
              "    <path d=\"M18.56 5.44l.94 2.06.94-2.06 2.06-.94-2.06-.94-.94-2.06-.94 2.06-2.06.94zm-11 1L8.5 8.5l.94-2.06 2.06-.94-2.06-.94L8.5 2.5l-.94 2.06-2.06.94zm10 10l.94 2.06.94-2.06 2.06-.94-2.06-.94-.94-2.06-.94 2.06-2.06.94z\"/><path d=\"M17.41 7.96l-1.37-1.37c-.4-.4-.92-.59-1.43-.59-.52 0-1.04.2-1.43.59L10.3 9.45l-7.72 7.72c-.78.78-.78 2.05 0 2.83L4 21.41c.39.39.9.59 1.41.59.51 0 1.02-.2 1.41-.59l7.78-7.78 2.81-2.81c.8-.78.8-2.07 0-2.86zM5.41 20L4 18.59l7.72-7.72 1.47 1.35L5.41 20z\"/>\n",
              "  </svg>\n",
              "      </button>\n",
              "      \n",
              "  <style>\n",
              "    .colab-df-container {\n",
              "      display:flex;\n",
              "      flex-wrap:wrap;\n",
              "      gap: 12px;\n",
              "    }\n",
              "\n",
              "    .colab-df-convert {\n",
              "      background-color: #E8F0FE;\n",
              "      border: none;\n",
              "      border-radius: 50%;\n",
              "      cursor: pointer;\n",
              "      display: none;\n",
              "      fill: #1967D2;\n",
              "      height: 32px;\n",
              "      padding: 0 0 0 0;\n",
              "      width: 32px;\n",
              "    }\n",
              "\n",
              "    .colab-df-convert:hover {\n",
              "      background-color: #E2EBFA;\n",
              "      box-shadow: 0px 1px 2px rgba(60, 64, 67, 0.3), 0px 1px 3px 1px rgba(60, 64, 67, 0.15);\n",
              "      fill: #174EA6;\n",
              "    }\n",
              "\n",
              "    [theme=dark] .colab-df-convert {\n",
              "      background-color: #3B4455;\n",
              "      fill: #D2E3FC;\n",
              "    }\n",
              "\n",
              "    [theme=dark] .colab-df-convert:hover {\n",
              "      background-color: #434B5C;\n",
              "      box-shadow: 0px 1px 3px 1px rgba(0, 0, 0, 0.15);\n",
              "      filter: drop-shadow(0px 1px 2px rgba(0, 0, 0, 0.3));\n",
              "      fill: #FFFFFF;\n",
              "    }\n",
              "  </style>\n",
              "\n",
              "      <script>\n",
              "        const buttonEl =\n",
              "          document.querySelector('#df-95c6d79d-8a59-4451-9ed0-c72302c096e0 button.colab-df-convert');\n",
              "        buttonEl.style.display =\n",
              "          google.colab.kernel.accessAllowed ? 'block' : 'none';\n",
              "\n",
              "        async function convertToInteractive(key) {\n",
              "          const element = document.querySelector('#df-95c6d79d-8a59-4451-9ed0-c72302c096e0');\n",
              "          const dataTable =\n",
              "            await google.colab.kernel.invokeFunction('convertToInteractive',\n",
              "                                                     [key], {});\n",
              "          if (!dataTable) return;\n",
              "\n",
              "          const docLinkHtml = 'Like what you see? Visit the ' +\n",
              "            '<a target=\"_blank\" href=https://colab.research.google.com/notebooks/data_table.ipynb>data table notebook</a>'\n",
              "            + ' to learn more about interactive tables.';\n",
              "          element.innerHTML = '';\n",
              "          dataTable['output_type'] = 'display_data';\n",
              "          await google.colab.output.renderOutput(dataTable, element);\n",
              "          const docLink = document.createElement('div');\n",
              "          docLink.innerHTML = docLinkHtml;\n",
              "          element.appendChild(docLink);\n",
              "        }\n",
              "      </script>\n",
              "    </div>\n",
              "  </div>\n",
              "  "
            ]
          },
          "metadata": {},
          "execution_count": 15
        }
      ]
    },
    {
      "cell_type": "code",
      "source": [
        "#making a line plot for column values (columns used ->[Investments in Commercial Paper,Investments in shares,Investments in Bonds/Debentures]\n",
        "\n",
        "df['Investments in Commercial Paper'].plot(label='Investments in Commercial Paper',figsize=(12,8),title=\"Investments\")\n",
        "df['Investments in shares'].plot(label='Investments in shares',figsize=(12,8),title=\"Investments\")\n",
        "df['Investments in Bonds/Debentures'].plot(label='Investments in Bonds/Debentures',figsize=(12,8),title=\"Investments\")\n",
        "plt.legend() "
      ],
      "metadata": {
        "colab": {
          "base_uri": "https://localhost:8080/",
          "height": 483
        },
        "id": "Px8mtDUyfU3N",
        "outputId": "9131e2fe-94bd-4d91-badb-f009bcfe66b2"
      },
      "execution_count": 16,
      "outputs": [
        {
          "output_type": "execute_result",
          "data": {
            "text/plain": [
              "<matplotlib.legend.Legend at 0x7f014f808450>"
            ]
          },
          "metadata": {},
          "execution_count": 16
        },
        {
          "output_type": "display_data",
          "data": {
            "text/plain": [
              "<Figure size 864x576 with 1 Axes>"
            ],
            "image/png": "[encoded data removed]"
          },
          "metadata": {
            "needs_background": "light"
          }
        }
      ]
    },
    {
      "cell_type": "code",
      "source": [
        "#making a new column named \"Total Investments\" that is the sum of 3 different columns as shown below\n",
        "df['Total Investments']=df['Investments in Commercial Paper']+df['Investments in shares']+df['Investments in Bonds/Debentures']\n"
      ],
      "metadata": {
        "id": "1DM6zwWpffR1"
      },
      "execution_count": 17,
      "outputs": []
    },
    {
      "cell_type": "code",
      "source": [
        "df['Total Investments'].plot(figsize=(12,8),title=\"Total Investments\")"
      ],
      "metadata": {
        "colab": {
          "base_uri": "https://localhost:8080/",
          "height": 483
        },
        "id": "SPD3PWY7frAN",
        "outputId": "a841e852-a1cd-4750-95b2-52c8f231fddc"
      },
      "execution_count": 18,
      "outputs": [
        {
          "output_type": "execute_result",
          "data": {
            "text/plain": [
              "<matplotlib.axes._subplots.AxesSubplot at 0x7f014e0b6790>"
            ]
          },
          "metadata": {},
          "execution_count": 18
        },
        {
          "output_type": "display_data",
          "data": {
            "text/plain": [
              "<Figure size 864x576 with 1 Axes>"
            ],
            "image/png": "[encoded data removed]"
          },
          "metadata": {
            "needs_background": "light"
          }
        }
      ]
    },
    {
      "cell_type": "code",
      "source": [
        "df['Total Investments'].plot(kind='bar',figsize=(12,8),title='Total Investment')"
      ],
      "metadata": {
        "colab": {
          "base_uri": "https://localhost:8080/",
          "height": 557
        },
        "id": "WQ6B9b-ufvCm",
        "outputId": "60da5013-ba67-44c5-bac5-abf515d3667a"
      },
      "execution_count": 19,
      "outputs": [
        {
          "output_type": "execute_result",
          "data": {
            "text/plain": [
              "<matplotlib.axes._subplots.AxesSubplot at 0x7f014dfd9bd0>"
            ]
          },
          "metadata": {},
          "execution_count": 19
        },
        {
          "output_type": "display_data",
          "data": {
            "text/plain": [
              "<Figure size 864x576 with 1 Axes>"
            ],
            "image/png": "[encoded data removed]"
          },
          "metadata": {
            "needs_background": "light"
          }
        }
      ]
    },
    {
      "cell_type": "code",
      "source": [
        "df.columns"
      ],
      "metadata": {
        "colab": {
          "base_uri": "https://localhost:8080/"
        },
        "id": "MTpW8ahmf1XO",
        "outputId": "0226b74c-524c-4cb5-d859-cf273a6ff7b4"
      },
      "execution_count": 20,
      "outputs": [
        {
          "output_type": "execute_result",
          "data": {
            "text/plain": [
              "Index(['Non-food Bank Credit', 'Investments in Commercial Paper',\n",
              "       'Investments in shares', 'Investments in Bonds/Debentures',\n",
              "       'Total Non-SLR Investments', 'Adjusted Non-food Bank Credit',\n",
              "       ' Y-o-Y Growth in (7) (%)', 'Total Investments'],\n",
              "      dtype='object')"
            ]
          },
          "metadata": {},
          "execution_count": 20
        }
      ]
    },
    {
      "cell_type": "code",
      "source": [
        "df[' Y-o-Y Growth in (7) (%)'].plot(figsize=(12,8),title=\"Growth\") "
      ],
      "metadata": {
        "colab": {
          "base_uri": "https://localhost:8080/",
          "height": 499
        },
        "id": "rEaCehIyf6Xm",
        "outputId": "a33c93bf-cdba-4322-be35-d2c9a8e36821"
      },
      "execution_count": 21,
      "outputs": [
        {
          "output_type": "execute_result",
          "data": {
            "text/plain": [
              "<matplotlib.axes._subplots.AxesSubplot at 0x7f014ddf4390>"
            ]
          },
          "metadata": {},
          "execution_count": 21
        },
        {
          "output_type": "display_data",
          "data": {
            "text/plain": [
              "<Figure size 864x576 with 1 Axes>"
            ],
            "image/png": "[encoded data removed]"
          },
          "metadata": {
            "needs_background": "light"
          }
        }
      ]
    },
    {
      "cell_type": "code",
      "source": [
        "y=df[' Y-o-Y Growth in (7) (%)']  \n",
        "x=df.drop(' Y-o-Y Growth in (7) (%)',axis=1) "
      ],
      "metadata": {
        "id": "Vh7rjBMviia-"
      },
      "execution_count": 22,
      "outputs": []
    },
    {
      "cell_type": "code",
      "source": [
        "x.corrwith(y).plot.bar(figsize=(20,10),title=\"Correlation with response variable\",fontsize=15,rot=45,grid=True)"
      ],
      "metadata": {
        "colab": {
          "base_uri": "https://localhost:8080/",
          "height": 463
        },
        "id": "CjnanFPHin_Q",
        "outputId": "a4cf587f-bf37-4e97-f9fd-f4b8f790d3b2"
      },
      "execution_count": 23,
      "outputs": [
        {
          "output_type": "execute_result",
          "data": {
            "text/plain": [
              "<matplotlib.axes._subplots.AxesSubplot at 0x7f014dd13810>"
            ]
          },
          "metadata": {},
          "execution_count": 23
        },
        {
          "output_type": "display_data",
          "data": {
            "text/plain": [
              "<Figure size 1440x720 with 1 Axes>"
            ],
            "image/png": "[encoded data removed]"
          },
          "metadata": {
            "needs_background": "light"
          }
        }
      ]
    },
    {
      "cell_type": "code",
      "source": [
        "plt.figure(figsize=(10,10))\n",
        "sns.heatmap(df.corr(),annot=True) "
      ],
      "metadata": {
        "colab": {
          "base_uri": "https://localhost:8080/",
          "height": 692
        },
        "id": "4uvOcYdliuGN",
        "outputId": "7e189cc3-18ba-4e2c-bd55-7587e60f886e"
      },
      "execution_count": 24,
      "outputs": [
        {
          "output_type": "execute_result",
          "data": {
            "text/plain": [
              "<matplotlib.axes._subplots.AxesSubplot at 0x7f014f8082d0>"
            ]
          },
          "metadata": {},
          "execution_count": 24
        },
        {
          "output_type": "display_data",
          "data": {
            "text/plain": [
              "<Figure size 720x720 with 2 Axes>"
            ],
            "image/png": "[encoded data removed]"
          },
          "metadata": {
            "needs_background": "light"
          }
        }
      ]
    },
    {
      "cell_type": "code",
      "source": [
        "from sklearn.preprocessing import StandardScaler #StandardScaler function of sklearn is used to scale down values of dataframe between 0 and 1\n",
        "\n",
        "sc=StandardScaler() \n",
        "df=sc.fit_transform(df)"
      ],
      "metadata": {
        "id": "KJp54kOoi6ZO"
      },
      "execution_count": 25,
      "outputs": []
    },
    {
      "cell_type": "code",
      "source": [
        "#train_test_split is a function in Sklearn model selection for splitting data arrays into two subsets: for \n",
        "\n",
        "from sklearn.model_selection import train_test_split\n",
        "x_train,x_test,y_train,y_test=train_test_split(x,y)\n",
        "#splitting the data into train and split by ratio of 75% train and 25% test (default)"
      ],
      "metadata": {
        "id": "p0FYna3WjAse"
      },
      "execution_count": 26,
      "outputs": []
    },
    {
      "cell_type": "code",
      "source": [
        " pip install tpot"
      ],
      "metadata": {
        "colab": {
          "base_uri": "https://localhost:8080/"
        },
        "id": "cFDt7PMJjtqt",
        "outputId": "7d2bd4c5-d2b2-485b-fef4-542d0ef47890"
      },
      "execution_count": 29,
      "outputs": [
        {
          "output_type": "stream",
          "name": "stdout",
          "text": [
            "Looking in indexes: https://pypi.org/simple, https://us-python.pkg.dev/colab-wheels/public/simple/\n",
            "Collecting tpot\n",
            "  Downloading TPOT-0.11.7-py3-none-any.whl (87 kB)\n",
            "\u001b[K     |████████████████████████████████| 87 kB 3.7 MB/s \n",
            "\u001b[?25hCollecting update-checker>=0.16\n",
            "  Downloading update_checker-0.18.0-py3-none-any.whl (7.0 kB)\n",
            "Collecting xgboost>=1.1.0\n",
            "  Downloading xgboost-1.6.1-py3-none-manylinux2014_x86_64.whl (192.9 MB)\n",
            "\u001b[K     |████████████████████████████████| 192.9 MB 59 kB/s \n",
            "\u001b[?25hRequirement already satisfied: scipy>=1.3.1 in /usr/local/lib/python3.7/dist-packages (from tpot) (1.7.3)\n",
            "Requirement already satisfied: joblib>=0.13.2 in /usr/local/lib/python3.7/dist-packages (from tpot) (1.1.0)\n",
            "Collecting deap>=1.2\n",
            "  Downloading deap-1.3.1-cp37-cp37m-manylinux_2_5_x86_64.manylinux1_x86_64.manylinux_2_12_x86_64.manylinux2010_x86_64.whl (160 kB)\n",
            "\u001b[K     |████████████████████████████████| 160 kB 56.2 MB/s \n",
            "\u001b[?25hRequirement already satisfied: numpy>=1.16.3 in /usr/local/lib/python3.7/dist-packages (from tpot) (1.21.6)\n",
            "Requirement already satisfied: tqdm>=4.36.1 in /usr/local/lib/python3.7/dist-packages (from tpot) (4.64.0)\n",
            "Requirement already satisfied: scikit-learn>=0.22.0 in /usr/local/lib/python3.7/dist-packages (from tpot) (1.0.2)\n",
            "Collecting stopit>=1.1.1\n",
            "  Downloading stopit-1.1.2.tar.gz (18 kB)\n",
            "Requirement already satisfied: pandas>=0.24.2 in /usr/local/lib/python3.7/dist-packages (from tpot) (1.3.5)\n",
            "Requirement already satisfied: pytz>=2017.3 in /usr/local/lib/python3.7/dist-packages (from pandas>=0.24.2->tpot) (2022.1)\n",
            "Requirement already satisfied: python-dateutil>=2.7.3 in /usr/local/lib/python3.7/dist-packages (from pandas>=0.24.2->tpot) (2.8.2)\n",
            "Requirement already satisfied: six>=1.5 in /usr/local/lib/python3.7/dist-packages (from python-dateutil>=2.7.3->pandas>=0.24.2->tpot) (1.15.0)\n",
            "Requirement already satisfied: threadpoolctl>=2.0.0 in /usr/local/lib/python3.7/dist-packages (from scikit-learn>=0.22.0->tpot) (3.1.0)\n",
            "Requirement already satisfied: requests>=2.3.0 in /usr/local/lib/python3.7/dist-packages (from update-checker>=0.16->tpot) (2.23.0)\n",
            "Requirement already satisfied: idna<3,>=2.5 in /usr/local/lib/python3.7/dist-packages (from requests>=2.3.0->update-checker>=0.16->tpot) (2.10)\n",
            "Requirement already satisfied: certifi>=2017.4.17 in /usr/local/lib/python3.7/dist-packages (from requests>=2.3.0->update-checker>=0.16->tpot) (2022.6.15)\n",
            "Requirement already satisfied: urllib3!=1.25.0,!=1.25.1,<1.26,>=1.21.1 in /usr/local/lib/python3.7/dist-packages (from requests>=2.3.0->update-checker>=0.16->tpot) (1.24.3)\n",
            "Requirement already satisfied: chardet<4,>=3.0.2 in /usr/local/lib/python3.7/dist-packages (from requests>=2.3.0->update-checker>=0.16->tpot) (3.0.4)\n",
            "Building wheels for collected packages: stopit\n",
            "  Building wheel for stopit (setup.py) ... \u001b[?25l\u001b[?25hdone\n",
            "  Created wheel for stopit: filename=stopit-1.1.2-py3-none-any.whl size=11956 sha256=f7d137b8ed9f8ca9b2122a065caf366a19a7893f45769ec0d4332f1884d7817c\n",
            "  Stored in directory: /root/.cache/pip/wheels/e2/d2/79/eaf81edb391e27c87f51b8ef901ecc85a5363dc96b8b8d71e3\n",
            "Successfully built stopit\n",
            "Installing collected packages: xgboost, update-checker, stopit, deap, tpot\n",
            "  Attempting uninstall: xgboost\n",
            "    Found existing installation: xgboost 0.90\n",
            "    Uninstalling xgboost-0.90:\n",
            "      Successfully uninstalled xgboost-0.90\n",
            "Successfully installed deap-1.3.1 stopit-1.1.2 tpot-0.11.7 update-checker-0.18.0 xgboost-1.6.1\n"
          ]
        }
      ]
    },
    {
      "cell_type": "code",
      "source": [
        "from tpot import TPOTRegressor\n",
        "from sklearn.metrics import roc_auc_score "
      ],
      "metadata": {
        "id": "x2tRJo6rjGyS"
      },
      "execution_count": 30,
      "outputs": []
    },
    {
      "cell_type": "code",
      "source": [
        "tpot = TPOTRegressor(\n",
        "    generations=5,\n",
        "    population_size=50,\n",
        "    verbosity=2,\n",
        ")\n",
        "tpot.fit(x_train, y_train)"
      ],
      "metadata": {
        "colab": {
          "base_uri": "https://localhost:8080/",
          "height": 263,
          "referenced_widgets": [
            "4bfb894615f14ed6970ba0999b9eb6de",
            "e7292fbdea6e4d0f91186884f03ad6e8",
            "e4b7cb21143b4c93baeebd4c0cd1f0d1",
            "249bd72f88f94fb1b07983b7d8f7178b",
            "baaf772c8a484b56998818afda94f5bf",
            "f486bcd5825f4cf5b88f88c66b9d6f56",
            "ec24fe5de12e467b8cb7e210892c7927",
            "490e52c0d6954ec68a57196fb418ffe3",
            "9f825fae4c1c424f87b4e6a81f677a08",
            "057ba0d362af444abc19ae52645849f4",
            "b309857bbcfb4b8aabd5822103918d8d"
          ]
        },
        "id": "1Wg0FSLOkTAi",
        "outputId": "c06ded99-baeb-476f-c017-1727c73c61c6"
      },
      "execution_count": 32,
      "outputs": [
        {
          "output_type": "display_data",
          "data": {
            "text/plain": [
              "Optimization Progress:   0%|          | 0/300 [00:00<?, ?pipeline/s]"
            ],
            "application/vnd.jupyter.widget-view+json": {
              "version_major": 2,
              "version_minor": 0,
              "model_id": "4bfb894615f14ed6970ba0999b9eb6de"
            }
          },
          "metadata": {}
        },
        {
          "output_type": "stream",
          "name": "stdout",
          "text": [
            "\n",
            "Generation 1 - Current best internal CV score: -1.0716615247050434\n",
            "\n",
            "Generation 2 - Current best internal CV score: -0.7843257149269128\n",
            "\n",
            "Generation 3 - Current best internal CV score: -0.7843257149269128\n",
            "\n",
            "Generation 4 - Current best internal CV score: -0.7843257149269128\n",
            "\n",
            "Generation 5 - Current best internal CV score: -0.7843257149269128\n",
            "\n",
            "Best pipeline: ExtraTreesRegressor(input_matrix, bootstrap=False, max_features=0.05, min_samples_leaf=1, min_samples_split=2, n_estimators=100)\n"
          ]
        },
        {
          "output_type": "execute_result",
          "data": {
            "text/plain": [
              "TPOTRegressor(generations=5, population_size=50, verbosity=2)"
            ]
          },
          "metadata": {},
          "execution_count": 32
        }
      ]
    },
    {
      "cell_type": "code",
      "source": [
        "tpot_pred = tpot.predict(x_test)\n",
        "tpot_pred"
      ],
      "metadata": {
        "colab": {
          "base_uri": "https://localhost:8080/"
        },
        "id": "4p1-nZW2kQ5a",
        "outputId": "d8c99ee4-ac2e-4bd4-b747-4e0b11432c2d"
      },
      "execution_count": 33,
      "outputs": [
        {
          "output_type": "execute_result",
          "data": {
            "text/plain": [
              "array([ 7.28635723, 11.82523117, 12.10213138, 15.06591819, 11.45740661,\n",
              "       10.58419489, 13.00690076, 13.63484394,  8.09034853, 11.71757522,\n",
              "       14.34818409,  6.61781256, 14.85723776, 13.69159117,  8.18406943,\n",
              "       14.4424916 , 13.5499857 ])"
            ]
          },
          "metadata": {},
          "execution_count": 33
        }
      ]
    },
    {
      "cell_type": "code",
      "source": [
        "from sklearn.ensemble import AdaBoostRegressor #import adaboostregressor from sklearn.ensemble class"
      ],
      "metadata": {
        "id": "hwMAzknQkuEq"
      },
      "execution_count": 34,
      "outputs": []
    },
    {
      "cell_type": "code",
      "source": [
        "regr = AdaBoostRegressor(random_state=0, n_estimators=100) #creating an instance of AdaBoostRegressor as regr\n",
        "regr.fit(x_train, y_train)  #fitting the AdaBoostRegressor on our training data\n"
      ],
      "metadata": {
        "colab": {
          "base_uri": "https://localhost:8080/"
        },
        "id": "FnPgZw4Blf7w",
        "outputId": "40880d03-8a76-4933-fcac-71334adc7b48"
      },
      "execution_count": 36,
      "outputs": [
        {
          "output_type": "execute_result",
          "data": {
            "text/plain": [
              "AdaBoostRegressor(n_estimators=100, random_state=0)"
            ]
          },
          "metadata": {},
          "execution_count": 36
        }
      ]
    },
    {
      "cell_type": "code",
      "source": [
        "y_pred=regr.predict(x_test) # making predictions on our test data using AdaBoostRegressor predict method and saving them in y_pred"
      ],
      "metadata": {
        "id": "MWjOhNfZmEOZ"
      },
      "execution_count": 37,
      "outputs": []
    },
    {
      "cell_type": "code",
      "source": [
        "from sklearn.metrics import mean_squared_error  #retrieving the training(x_train,y_train) accuracy score of the AdaBoostRegressor "
      ],
      "metadata": {
        "id": "h_mMGfkwmPe_"
      },
      "execution_count": 38,
      "outputs": []
    },
    {
      "cell_type": "code",
      "source": [
        "mean_squared_error(y_pred,y_test) #retrieving the testing(x_test,y_test) accuracy score of the AdaBoostRegressor "
      ],
      "metadata": {
        "colab": {
          "base_uri": "https://localhost:8080/"
        },
        "id": "j9WLXBT2mejH",
        "outputId": "ab50d2c5-6688-488d-fc3d-a3c5c7b89ab3"
      },
      "execution_count": 39,
      "outputs": [
        {
          "output_type": "execute_result",
          "data": {
            "text/plain": [
              "0.42339306170587465"
            ]
          },
          "metadata": {},
          "execution_count": 39
        }
      ]
    },
    {
      "cell_type": "code",
      "source": [
        "from sklearn.ensemble import RandomForestRegressor #import Random forest regressor from sklearn.ensemble class\n",
        "regr1 = RandomForestRegressor(random_state=0, n_estimators=100) \n",
        "regr1.fit(x_train, y_train) \n",
        "y_pred1=regr1.predict(x_test)"
      ],
      "metadata": {
        "id": "wCICJCF2mls7"
      },
      "execution_count": 40,
      "outputs": []
    },
    {
      "cell_type": "code",
      "source": [
        "mean_squared_error(y_pred1,y_test)"
      ],
      "metadata": {
        "colab": {
          "base_uri": "https://localhost:8080/"
        },
        "id": "Du3BGTHymr5Q",
        "outputId": "28b3e363-58c3-4079-f605-d12c9ed73ecc"
      },
      "execution_count": 41,
      "outputs": [
        {
          "output_type": "execute_result",
          "data": {
            "text/plain": [
              "0.4479595946483006"
            ]
          },
          "metadata": {},
          "execution_count": 41
        }
      ]
    },
    {
      "cell_type": "markdown",
      "source": [
        "# CONCLUSION \n",
        "\n",
        "Prediction of Year over year growth rate is a regression problem so to make predictions we have used powerful regression algorithm like AdaBoost regressor and some new machine learning algorithm (AUTOML) like TPOT regressor."
      ],
      "metadata": {
        "id": "3GEKODbQmyNt"
      }
    }
  ]
}